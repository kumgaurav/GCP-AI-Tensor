{
 "cells": [
  {
   "cell_type": "code",
   "execution_count": 1,
   "id": "44668015",
   "metadata": {},
   "outputs": [],
   "source": [
    "tuple=('left',44.44,'temp',99.99)"
   ]
  },
  {
   "cell_type": "code",
   "execution_count": 2,
   "id": "191b1ed2",
   "metadata": {},
   "outputs": [
    {
     "name": "stdout",
     "output_type": "stream",
     "text": [
      "left\n"
     ]
    }
   ],
   "source": [
    "print(tuple[0])"
   ]
  },
  {
   "cell_type": "code",
   "execution_count": 3,
   "id": "a8d052cd",
   "metadata": {},
   "outputs": [
    {
     "name": "stdout",
     "output_type": "stream",
     "text": [
      "33.333333%\n"
     ]
    }
   ],
   "source": [
    "print('{0:-2%}'.format(1.0/3))"
   ]
  },
  {
   "cell_type": "code",
   "execution_count": 4,
   "id": "b3015b97",
   "metadata": {},
   "outputs": [
    {
     "name": "stdout",
     "output_type": "stream",
     "text": [
      "0\n",
      "1\n",
      "2\n",
      "3\n",
      "4\n"
     ]
    }
   ],
   "source": [
    "my_string = \"whais\"\n",
    "for i in range(len(my_string)):\n",
    "    print(i)"
   ]
  },
  {
   "cell_type": "code",
   "execution_count": 5,
   "id": "7bfd6a61",
   "metadata": {},
   "outputs": [],
   "source": [
    "_my=''"
   ]
  },
  {
   "cell_type": "code",
   "execution_count": null,
   "id": "66baeeee",
   "metadata": {},
   "outputs": [],
   "source": []
  }
 ],
 "metadata": {
  "kernelspec": {
   "display_name": "Python 3",
   "language": "python",
   "name": "python3"
  },
  "language_info": {
   "codemirror_mode": {
    "name": "ipython",
    "version": 3
   },
   "file_extension": ".py",
   "mimetype": "text/x-python",
   "name": "python",
   "nbconvert_exporter": "python",
   "pygments_lexer": "ipython3",
   "version": "3.8.10"
  }
 },
 "nbformat": 4,
 "nbformat_minor": 5
}
