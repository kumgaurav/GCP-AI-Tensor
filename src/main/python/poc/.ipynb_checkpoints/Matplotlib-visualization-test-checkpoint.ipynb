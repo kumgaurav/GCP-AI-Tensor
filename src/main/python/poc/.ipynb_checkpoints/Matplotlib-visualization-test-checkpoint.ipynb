{
 "cells": [
  {
   "cell_type": "code",
   "execution_count": 8,
   "id": "3186529c",
   "metadata": {},
   "outputs": [
    {
     "data": {
      "image/png": "[encoded data removed]",
      "text/plain": [
       "<Figure size 576x360 with 1 Axes>"
      ]
     },
     "metadata": {
      "needs_background": "light"
     },
     "output_type": "display_data"
    }
   ],
   "source": [
    "import matplotlib.pyplot as plt\n",
    "import pandas as pd\n",
    "import seaborn as sns\n",
    "\n",
    "x_coords = [0.13, 0.22, 0.39, 0.59, 0.68, 0.74, 0.93]\n",
    "y_coords = [0.75, 0.34, 0.44, 0.52, 0.80, 0.25, 0.55]\n",
    "labels = ['APPL', 'GOGL', 'APPN', 'AWS', 'ZS', 'PANW', 'CLOV']\n",
    "\n",
    "fig = plt.figure(figsize=(8,5))\n",
    "plt.scatter(x_coords, y_coords, marker='s', s=50)\n",
    "\n",
    "for label,x, y in zip(labels,x_coords, y_coords):\n",
    "    plt.annotate(\n",
    "        '(%s)' %(label), \n",
    "        xy=(x, y), \n",
    "        xytext=(0, -10),\n",
    "        textcoords='offset points', \n",
    "        ha='center', \n",
    "        va='top',\n",
    "        arrowprops = dict(arrowstyle='->',connectionstyle = 'arc3,rad=-0.5'))\n",
    "\n",
    "plt.xlim([0,1])\n",
    "plt.ylim([0,1])\n",
    "plt.show()"
   ]
  },
  {
   "cell_type": "markdown",
   "id": "545f33de",
   "metadata": {},
   "source": [
    "# Importing online financial data in the JSON format"
   ]
  },
  {
   "cell_type": "code",
   "execution_count": null,
   "id": "837756c0",
   "metadata": {},
   "outputs": [],
   "source": []
  },
  {
   "cell_type": "code",
   "execution_count": 13,
   "id": "d3d552fd",
   "metadata": {},
   "outputs": [
    {
     "data": {
      "text/html": [
       "<div>\n",
       "<style scoped>\n",
       "    .dataframe tbody tr th:only-of-type {\n",
       "        vertical-align: middle;\n",
       "    }\n",
       "\n",
       "    .dataframe tbody tr th {\n",
       "        vertical-align: top;\n",
       "    }\n",
       "\n",
       "    .dataframe thead th {\n",
       "        text-align: right;\n",
       "    }\n",
       "</style>\n",
       "<table border=\"1\" class=\"dataframe\">\n",
       "  <thead>\n",
       "    <tr style=\"text-align: right;\">\n",
       "      <th></th>\n",
       "      <th>Date_x</th>\n",
       "      <th>local_price</th>\n",
       "      <th>dollar_price</th>\n",
       "      <th>country</th>\n",
       "      <th>Date_y</th>\n",
       "      <th>Value</th>\n",
       "    </tr>\n",
       "  </thead>\n",
       "  <tbody>\n",
       "    <tr>\n",
       "      <th>0</th>\n",
       "      <td>2015-01-31</td>\n",
       "      <td>28.0</td>\n",
       "      <td>3.252033</td>\n",
       "      <td>ARG</td>\n",
       "      <td>2015-12-31</td>\n",
       "      <td>10490.019568</td>\n",
       "    </tr>\n",
       "    <tr>\n",
       "      <th>1</th>\n",
       "      <td>2015-01-31</td>\n",
       "      <td>5.3</td>\n",
       "      <td>4.318705</td>\n",
       "      <td>AUS</td>\n",
       "      <td>2015-12-31</td>\n",
       "      <td>54941.911458</td>\n",
       "    </tr>\n",
       "    <tr>\n",
       "      <th>2</th>\n",
       "      <td>2015-01-31</td>\n",
       "      <td>13.5</td>\n",
       "      <td>5.206827</td>\n",
       "      <td>BRA</td>\n",
       "      <td>2015-12-31</td>\n",
       "      <td>11322.146680</td>\n",
       "    </tr>\n",
       "  </tbody>\n",
       "</table>\n",
       "</div>"
      ],
      "text/plain": [
       "       Date_x  local_price  dollar_price country      Date_y         Value\n",
       "0  2015-01-31         28.0      3.252033     ARG  2015-12-31  10490.019568\n",
       "1  2015-01-31          5.3      4.318705     AUS  2015-12-31  54941.911458\n",
       "2  2015-01-31         13.5      5.206827     BRA  2015-12-31  11322.146680"
      ]
     },
     "execution_count": 13,
     "metadata": {},
     "output_type": "execute_result"
    }
   ],
   "source": [
    "d = {'Date_x': ['2015-01-31', '2015-01-31', '2015-01-31'], 'local_price': [28.00, 5.30,13.50], 'dollar_price': [3.252033, 4.318705,5.206827], \n",
    "     'country': ['ARG', 'AUS','BRA'], 'Date_y': ['2015-12-31', '2015-12-31', '2015-12-31'], 'Value': [10490.019568, 54941.911458, 11322.146680]}\n",
    "merged_df = pd.DataFrame(data=d)\n",
    "merged_df.head()"
   ]
  },
  {
   "cell_type": "markdown",
   "id": "c43d76d7",
   "metadata": {},
   "source": [
    "# Visualizing a bivariate distribution¶"
   ]
  },
  {
   "cell_type": "code",
   "execution_count": 14,
   "id": "4e69d0f6",
   "metadata": {},
   "outputs": [
    {
     "data": {
      "image/png": "[encoded data removed]",
      "text/plain": [
       "<Figure size 432x288 with 1 Axes>"
      ]
     },
     "metadata": {
      "needs_background": "light"
     },
     "output_type": "display_data"
    }
   ],
   "source": [
    "ax = sns.regplot(x=\"Value\", y=\"dollar_price\", data=merged_df)\n",
    "ax.set_xlabel(\"GDP per capita (constant 2000 US$)\")\n",
    "ax.set_ylabel(\"BigMac index (US$)\")\n",
    "\n",
    "# Label the country code for those who demonstrate extreme BigMac index\n",
    "for row in merged_df.itertuples():\n",
    "    if row.dollar_price >= 5 or row.dollar_price <= 2:\n",
    "        ax.text(row.Value,row.dollar_price+0.1,row.country)\n",
    "\n",
    "plt.show()"
   ]
  },
  {
   "cell_type": "code",
   "execution_count": 15,
   "id": "fee5d5e8",
   "metadata": {},
   "outputs": [
    {
     "data": {
      "image/png": "[encoded data removed]",
      "text/plain": [
       "<Figure size 432x288 with 1 Axes>"
      ]
     },
     "metadata": {
      "needs_background": "light"
     },
     "output_type": "display_data"
    }
   ],
   "source": [
    "ax = sns.regplot(x=\"Value\", y=\"dollar_price\", data=merged_df)\n",
    "ax.set_xlabel(\"GDP per capita (constant 2000 US$)\")\n",
    "ax.set_ylabel(\"BigMac index (US$)\")\n",
    "\n",
    "# Label the country code for those who demonstrate extreme BigMac index\n",
    "for row in merged_df.itertuples():\n",
    "    if row.dollar_price >= 5 or row.dollar_price <= 2:\n",
    "        ax.text(row.Value,row.dollar_price+0.1,row.country)\n",
    "\n",
    "plt.show()"
   ]
  },
  {
   "cell_type": "code",
   "execution_count": 16,
   "id": "440a7785",
   "metadata": {},
   "outputs": [
    {
     "data": {
      "image/png": "[encoded data removed]",
      "text/plain": [
       "<Figure size 432x432 with 3 Axes>"
      ]
     },
     "metadata": {
      "needs_background": "light"
     },
     "output_type": "display_data"
    }
   ],
   "source": [
    "import seaborn as sns\n",
    "import matplotlib.pyplot as plt\n",
    "\n",
    "\n",
    "# seaborn.jointplot() returns a seaborn.JointGrid object\n",
    "g = sns.jointplot(x=\"Value\", y=\"dollar_price\", data=merged_df)\n",
    "\n",
    "# Provide custom axes labels through accessing the underlying axes object\n",
    "# We can get matplotlib.axes.Axes of the scatter plot by calling g.ax_joint\n",
    "g.ax_joint.set_xlabel(\"GDP per capita (constant 2000 US$)\")\n",
    "g.ax_joint.set_ylabel(\"BigMac index (US$)\")\n",
    "\n",
    "# Set the title and adjust the margin\n",
    "g.fig.suptitle(\"Relationship between GDP per capita and BigMac Index\")\n",
    "g.fig.subplots_adjust(top=0.9)\n",
    "\n",
    "plt.show()"
   ]
  },
  {
   "cell_type": "code",
   "execution_count": 23,
   "id": "b207fc34",
   "metadata": {},
   "outputs": [
    {
     "data": {
      "text/html": [
       "<div>\n",
       "<style scoped>\n",
       "    .dataframe tbody tr th:only-of-type {\n",
       "        vertical-align: middle;\n",
       "    }\n",
       "\n",
       "    .dataframe tbody tr th {\n",
       "        vertical-align: top;\n",
       "    }\n",
       "\n",
       "    .dataframe thead th {\n",
       "        text-align: right;\n",
       "    }\n",
       "</style>\n",
       "<table border=\"1\" class=\"dataframe\">\n",
       "  <thead>\n",
       "    <tr style=\"text-align: right;\">\n",
       "      <th></th>\n",
       "      <th>Date</th>\n",
       "      <th>Open</th>\n",
       "      <th>High</th>\n",
       "      <th>Company</th>\n",
       "      <th>Close</th>\n",
       "      <th>Low</th>\n",
       "      <th>Volume</th>\n",
       "      <th>Close_change</th>\n",
       "    </tr>\n",
       "  </thead>\n",
       "  <tbody>\n",
       "    <tr>\n",
       "      <th>0</th>\n",
       "      <td>2015-01-31</td>\n",
       "      <td>28.0</td>\n",
       "      <td>3.252033</td>\n",
       "      <td>ARG</td>\n",
       "      <td>28.0</td>\n",
       "      <td>28.0</td>\n",
       "      <td>10490.019568</td>\n",
       "      <td>0.000000</td>\n",
       "    </tr>\n",
       "    <tr>\n",
       "      <th>1</th>\n",
       "      <td>2015-01-31</td>\n",
       "      <td>5.3</td>\n",
       "      <td>4.318705</td>\n",
       "      <td>AUS</td>\n",
       "      <td>5.3</td>\n",
       "      <td>5.3</td>\n",
       "      <td>54941.911458</td>\n",
       "      <td>-0.001119</td>\n",
       "    </tr>\n",
       "    <tr>\n",
       "      <th>2</th>\n",
       "      <td>2015-01-31</td>\n",
       "      <td>13.5</td>\n",
       "      <td>5.206827</td>\n",
       "      <td>BRA</td>\n",
       "      <td>13.5</td>\n",
       "      <td>13.5</td>\n",
       "      <td>11322.146680</td>\n",
       "      <td>0.005085</td>\n",
       "    </tr>\n",
       "  </tbody>\n",
       "</table>\n",
       "</div>"
      ],
      "text/plain": [
       "         Date  Open      High Company  Close   Low        Volume  Close_change\n",
       "0  2015-01-31  28.0  3.252033     ARG   28.0  28.0  10490.019568      0.000000\n",
       "1  2015-01-31   5.3  4.318705     AUS    5.3   5.3  54941.911458     -0.001119\n",
       "2  2015-01-31  13.5  5.206827     BRA   13.5  13.5  11322.146680      0.005085"
      ]
     },
     "execution_count": 23,
     "metadata": {},
     "output_type": "execute_result"
    }
   ],
   "source": [
    "d = {'Date': ['2015-01-31', '2015-01-31', '2015-01-31'], 'Open': [28.00, 5.30,13.50], 'High': [3.252033, 4.318705,5.206827], \n",
    "     'Company': ['ARG', 'AUS','BRA'], 'Close': [28.00, 5.30,13.50],'Low': [28.00, 5.30,13.50], 'Volume': [10490.019568, 54941.911458, 11322.146680],\n",
    "    'Close_change': [0,-0.001119,0.005085]}\n",
    "stock_df = pd.DataFrame(data=d)\n",
    "stock_df.head()\n",
    "\n",
    "\n"
   ]
  },
  {
   "cell_type": "code",
   "execution_count": 26,
   "id": "3fdd8067",
   "metadata": {},
   "outputs": [
    {
     "data": {
      "text/html": [
       "<div>\n",
       "<style scoped>\n",
       "    .dataframe tbody tr th:only-of-type {\n",
       "        vertical-align: middle;\n",
       "    }\n",
       "\n",
       "    .dataframe tbody tr th {\n",
       "        vertical-align: top;\n",
       "    }\n",
       "\n",
       "    .dataframe thead th {\n",
       "        text-align: right;\n",
       "    }\n",
       "</style>\n",
       "<table border=\"1\" class=\"dataframe\">\n",
       "  <thead>\n",
       "    <tr style=\"text-align: right;\">\n",
       "      <th>Company</th>\n",
       "      <th>ARG</th>\n",
       "      <th>AUS</th>\n",
       "      <th>BRA</th>\n",
       "    </tr>\n",
       "    <tr>\n",
       "      <th>Date</th>\n",
       "      <th></th>\n",
       "      <th></th>\n",
       "      <th></th>\n",
       "    </tr>\n",
       "  </thead>\n",
       "  <tbody>\n",
       "    <tr>\n",
       "      <th>2015-01-31</th>\n",
       "      <td>0.0</td>\n",
       "      <td>-0.001119</td>\n",
       "      <td>0.005085</td>\n",
       "    </tr>\n",
       "  </tbody>\n",
       "</table>\n",
       "</div>"
      ],
      "text/plain": [
       "Company     ARG       AUS       BRA\n",
       "Date                               \n",
       "2015-01-31  0.0 -0.001119  0.005085"
      ]
     },
     "execution_count": 26,
     "metadata": {},
     "output_type": "execute_result"
    }
   ],
   "source": [
    "stock_change = stock_df.pivot(index='Date', columns='Company', values='Close_change')\n",
    "stock_change = stock_change.loc[\"2015-01-01\":\"2017-06-30\"]\n",
    "stock_change.head()"
   ]
  },
  {
   "cell_type": "code",
   "execution_count": 27,
   "id": "8a384632",
   "metadata": {},
   "outputs": [
    {
     "data": {
      "image/png": "[encoded data removed]",
      "text/plain": [
       "<Figure size 432x288 with 2 Axes>"
      ]
     },
     "metadata": {
      "needs_background": "light"
     },
     "output_type": "display_data"
    }
   ],
   "source": [
    "ax = sns.heatmap(stock_change)\n",
    "\n",
    "plt.show()"
   ]
  },
  {
   "cell_type": "code",
   "execution_count": 28,
   "id": "4d43c01e",
   "metadata": {},
   "outputs": [
    {
     "data": {
      "image/png": "[encoded data removed]",
      "text/plain": [
       "<Figure size 432x288 with 2 Axes>"
      ]
     },
     "metadata": {
      "needs_background": "light"
     },
     "output_type": "display_data"
    }
   ],
   "source": [
    "# Create a new red-green color map using the husl color system\n",
    "# h_neg and h_pos determines the hue of the extents of the color map.\n",
    "# s determines the color saturation\n",
    "# l determines the lightness\n",
    "# sep determines the width of center point\n",
    "# In addition, we need to set as_cmap=True as the cmap paramter of sns.heatmap \n",
    "# expects matplotlib colormap object.\n",
    "rdgn = sns.diverging_palette(h_neg=10, h_pos=140, s=80, l=50, sep=10, as_cmap=True)\n",
    "\n",
    "# Change to square blocks (square=True), add a thin\n",
    "# border (linewidths=.5), and change the color map\n",
    "# to follow US stocks market convention (cmap=\"RdGn\").\n",
    "ax = sns.heatmap(stock_change, cmap=rdgn,\n",
    "                 linewidths=.5, square=True)\n",
    "\n",
    "plt.tight_layout()\n",
    "\n",
    "plt.show()"
   ]
  },
  {
   "cell_type": "code",
   "execution_count": 29,
   "id": "6f2796c6",
   "metadata": {},
   "outputs": [
    {
     "data": {
      "image/png": "[encoded data removed]",
      "text/plain": [
       "<Figure size 432x576 with 1 Axes>"
      ]
     },
     "metadata": {
      "needs_background": "light"
     },
     "output_type": "display_data"
    }
   ],
   "source": [
    "fig = plt.figure(figsize=(6,8))\n",
    "\n",
    "# Set annot=True to overlay the values.\n",
    "# We can also assign python format string to fmt. \n",
    "# For example \".2%\" refers to percentage values with\n",
    "# two decimal points.\n",
    "ax = sns.heatmap(stock_change, cmap=rdgn,\n",
    "                 annot=True, fmt=\".2%\",\n",
    "                 linewidths=.5, cbar=False)\n",
    "\n",
    "plt.show()"
   ]
  },
  {
   "cell_type": "code",
   "execution_count": null,
   "id": "13c97d5a",
   "metadata": {},
   "outputs": [],
   "source": []
  },
  {
   "cell_type": "code",
   "execution_count": null,
   "id": "bd90677f",
   "metadata": {},
   "outputs": [],
   "source": []
  }
 ],
 "metadata": {
  "kernelspec": {
   "display_name": "Python 3",
   "language": "python",
   "name": "python3"
  },
  "language_info": {
   "codemirror_mode": {
    "name": "ipython",
    "version": 3
   },
   "file_extension": ".py",
   "mimetype": "text/x-python",
   "name": "python",
   "nbconvert_exporter": "python",
   "pygments_lexer": "ipython3",
   "version": "3.7.10"
  }
 },
 "nbformat": 4,
 "nbformat_minor": 5
}
