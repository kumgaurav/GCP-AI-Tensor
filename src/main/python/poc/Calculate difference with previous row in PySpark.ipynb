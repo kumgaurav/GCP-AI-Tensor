{
 "cells": [
  {
   "cell_type": "code",
   "execution_count": 22,
   "id": "2ff327d7",
   "metadata": {},
   "outputs": [
    {
     "name": "stdout",
     "output_type": "stream",
     "text": [
      "+----+----------+------+------+------+------+--------+---------+---------------------+----------+------+-----------------+\n",
      "|Name|      Date|  Open| Close|   Low|  High|AdjClose|   Volume|record_ingestion_date|prev_close|change|change_in_percent|\n",
      "+----+----------+------+------+------+------+--------+---------+---------------------+----------+------+-----------------+\n",
      "|APPL|2021-06-11|114.82|  83.0|114.19|119.78|  117.65|1117338.0|           2021-06-14|      null|   0.0|             null|\n",
      "|APPL|2021-06-14|111.22|  90.0|110.07| 114.4|   113.0| 784841.0|           2021-06-13|      83.0|   7.0|             8.43|\n",
      "|APPN|2021-06-09|112.66|107.37| 105.4|112.97|  107.37|1362000.0|           2021-05-12|      null|   0.0|             null|\n",
      "|APPN|2021-06-10|107.05|111.04|104.61|111.38|  111.04|1018900.0|           2021-05-12|    107.37|  3.67|             3.42|\n",
      "|APPN|2021-06-11|111.22| 113.0|110.07| 114.4|   113.0| 788500.0|           2021-06-12|    111.04|  1.96|             1.77|\n",
      "|APPN|2021-06-14|114.82|117.65|114.19|119.78|  117.65|1117338.0|           2021-06-14|     113.0|  4.65|             4.12|\n",
      "+----+----------+------+------+------+------+--------+---------+---------------------+----------+------+-----------------+\n",
      "\n"
     ]
    }
   ],
   "source": [
    "from pyspark import SparkContext\n",
    "from pyspark.sql import SQLContext\n",
    "from pyspark.sql import functions as F\n",
    "from pyspark.sql.window import Window\n",
    "\n",
    "spark = SparkSession.builder \\\n",
    "  .config('spark.jars', 'gs://spark-lib/bigquery/spark-bigquery-latest_2.12.jar') \\\n",
    "  .getOrCreate()\n",
    "\n",
    "rdd = spark.sparkContext.parallelize([\n",
    "('APPN','2021-06-14',114.82,117.65,114.19,119.78,117.65,1117338.0,'2021-06-14'),\n",
    "('APPL','2021-06-14',111.22,90.0,110.07,114.4,113.0,784841.0,'2021-06-13'),\n",
    "('APPN','2021-06-11',111.22,113.0,110.07,114.4,113.0,788500.0,'2021-06-12'),\n",
    "('APPL','2021-06-11',114.82,83.0,114.19,119.78,117.65,1117338.0,'2021-06-14'),    \n",
    "('APPN','2021-06-10',107.05,111.04,104.61,111.38,111.04,1018900.0,'2021-05-12'),\n",
    "('APPN','2021-06-09',112.66,107.37,105.4,112.97,107.37,1362000.0,'2021-05-12')\n",
    "])\n",
    "\n",
    "df = spark.createDataFrame(rdd, [\"Name\",\"Date\",\"Open\",\"Close\",\"Low\",\"High\",\"AdjClose\",\"Volume\",\"record_ingestion_date\"])\n",
    "\n",
    "my_window = Window.partitionBy(\"Name\").orderBy(\"Date\")\n",
    "\n",
    "df = df.withColumn(\"prev_close\", F.lag(df.Close).over(my_window))\n",
    "df = df.withColumn(\"change\", F.when(F.isnull(df.Close - df.prev_close), 0)\n",
    "                              .otherwise(F.round((df.Close - df.prev_close),2)))\n",
    "df = df.withColumn(\"change_in_percent\",F.round((df.change/df.prev_close)*100,2))\n",
    "\n",
    "df.show()"
   ]
  },
  {
   "cell_type": "code",
   "execution_count": null,
   "id": "b82cee15",
   "metadata": {},
   "outputs": [],
   "source": []
  }
 ],
 "metadata": {
  "kernelspec": {
   "display_name": "Python 3",
   "language": "python",
   "name": "python3"
  },
  "language_info": {
   "codemirror_mode": {
    "name": "ipython",
    "version": 3
   },
   "file_extension": ".py",
   "mimetype": "text/x-python",
   "name": "python",
   "nbconvert_exporter": "python",
   "pygments_lexer": "ipython3",
   "version": "3.6.13"
  }
 },
 "nbformat": 4,
 "nbformat_minor": 5
}
