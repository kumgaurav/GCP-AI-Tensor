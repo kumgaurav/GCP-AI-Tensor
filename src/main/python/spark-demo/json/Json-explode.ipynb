{
 "cells": [
  {
   "cell_type": "code",
   "execution_count": 21,
   "id": "ef67799e",
   "metadata": {},
   "outputs": [],
   "source": [
    "from IPython.display import display\n",
    "from pyspark.sql import SparkSession\n",
    "from pyspark.sql.functions import *\n",
    "from pyspark.sql.types import StructType,StructField, StringType, IntegerType,BooleanType,DoubleType,TimestampType"
   ]
  },
  {
   "cell_type": "code",
   "execution_count": 12,
   "id": "e43d7771",
   "metadata": {},
   "outputs": [],
   "source": [
    "spark = SparkSession.builder.getOrCreate()\n",
    "# spark is from the previous example.\n",
    "sc = spark.sparkContext\n",
    "# an RDD[String] storing one JSON object per string\n",
    "jsonStrings = ['{\"action\":\"create\",\"timestamp\":\"2016-01-07T00:01:17Z\"}']\n",
    "#construct RDD[Sting]\n",
    "events = sc.parallelize(jsonStrings)\n",
    "\n",
    "# read it\n",
    "df = spark.read.json(events)"
   ]
  },
  {
   "cell_type": "code",
   "execution_count": 13,
   "id": "712c25a1",
   "metadata": {},
   "outputs": [
    {
     "name": "stdout",
     "output_type": "stream",
     "text": [
      "+------+--------------------+\n",
      "|action|           timestamp|\n",
      "+------+--------------------+\n",
      "|create|2016-01-07T00:01:17Z|\n",
      "+------+--------------------+\n",
      "\n"
     ]
    }
   ],
   "source": [
    "df.show()"
   ]
  },
  {
   "cell_type": "code",
   "execution_count": 14,
   "id": "9e785ef9",
   "metadata": {},
   "outputs": [
    {
     "name": "stdout",
     "output_type": "stream",
     "text": [
      "root\n",
      " |-- action: string (nullable = true)\n",
      " |-- timestamp: string (nullable = true)\n",
      "\n"
     ]
    }
   ],
   "source": [
    "df.printSchema()"
   ]
  },
  {
   "cell_type": "code",
   "execution_count": 22,
   "id": "188e7dea",
   "metadata": {},
   "outputs": [
    {
     "name": "stdout",
     "output_type": "stream",
     "text": [
      "+------+-------------------+\n",
      "|action|          timestamp|\n",
      "+------+-------------------+\n",
      "|create|2016-01-06 16:01:17|\n",
      "+------+-------------------+\n",
      "\n"
     ]
    }
   ],
   "source": [
    "schema = StructType([StructField(\"action\", StringType(),True),StructField(\"timestamp\", TimestampType(),True)])\n",
    "df = spark.read.schema(schema).json(events)\n",
    "\n",
    "df.show()"
   ]
  },
  {
   "cell_type": "code",
   "execution_count": null,
   "id": "6f6c9854",
   "metadata": {},
   "outputs": [],
   "source": []
  }
 ],
 "metadata": {
  "kernelspec": {
   "display_name": "Python 3",
   "language": "python",
   "name": "python3"
  },
  "language_info": {
   "codemirror_mode": {
    "name": "ipython",
    "version": 3
   },
   "file_extension": ".py",
   "mimetype": "text/x-python",
   "name": "python",
   "nbconvert_exporter": "python",
   "pygments_lexer": "ipython3",
   "version": "3.7.10"
  }
 },
 "nbformat": 4,
 "nbformat_minor": 5
}
