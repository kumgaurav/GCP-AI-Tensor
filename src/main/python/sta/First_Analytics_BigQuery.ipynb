{
 "cells": [
  {
   "cell_type": "markdown",
   "id": "b00f1a53",
   "metadata": {},
   "source": [
    "1. To Intialize spark in local notebook please run startjupyter.sh\n",
    "source /Users/gkumargaur/workspace/scala/GCP-AI-Tensor/scripts/startjupyter.sh\n",
    "2. run pyspark, this will open the notebook with spark enabled"
   ]
  },
  {
   "cell_type": "code",
   "execution_count": 16,
   "id": "fad56f5a",
   "metadata": {},
   "outputs": [],
   "source": [
    "import pandas as pd\n",
    "import warnings\n",
    "import datetime\n",
    "from pyspark.sql import SparkSession\n",
    "from pyspark.sql.functions import *\n",
    "from google.cloud import bigquery\n",
    "import matplotlib.pyplot as plt\n",
    "%matplotlib inline\n",
    "warnings.filterwarnings(\"ignore\")\n",
    "spark = SparkSession.builder \\\n",
    "  .config('spark.jars', 'gs://spark-lib/bigquery/spark-bigquery-latest_2.12.jar') \\\n",
    "  .getOrCreate()"
   ]
  },
  {
   "cell_type": "code",
   "execution_count": 17,
   "id": "828e2b94",
   "metadata": {},
   "outputs": [
    {
     "data": {
      "text/html": [
       "<div>\n",
       "<style scoped>\n",
       "    .dataframe tbody tr th:only-of-type {\n",
       "        vertical-align: middle;\n",
       "    }\n",
       "\n",
       "    .dataframe tbody tr th {\n",
       "        vertical-align: top;\n",
       "    }\n",
       "\n",
       "    .dataframe thead th {\n",
       "        text-align: right;\n",
       "    }\n",
       "</style>\n",
       "<table border=\"1\" class=\"dataframe\">\n",
       "  <thead>\n",
       "    <tr style=\"text-align: right;\">\n",
       "      <th></th>\n",
       "      <th>Name</th>\n",
       "      <th>Date</th>\n",
       "      <th>Open</th>\n",
       "      <th>Close</th>\n",
       "      <th>Low</th>\n",
       "      <th>High</th>\n",
       "      <th>AdjClose</th>\n",
       "      <th>Volume</th>\n",
       "      <th>record_ingestion_date</th>\n",
       "      <th>prev_close</th>\n",
       "      <th>change</th>\n",
       "      <th>change_in_percent</th>\n",
       "    </tr>\n",
       "  </thead>\n",
       "  <tbody>\n",
       "    <tr>\n",
       "      <th>0</th>\n",
       "      <td>UONE</td>\n",
       "      <td>2021-03-16</td>\n",
       "      <td>5.75</td>\n",
       "      <td>5.59</td>\n",
       "      <td>5.49</td>\n",
       "      <td>5.86</td>\n",
       "      <td>5.59</td>\n",
       "      <td>351000.0</td>\n",
       "      <td>2021-03-16</td>\n",
       "      <td>NaN</td>\n",
       "      <td>0.00</td>\n",
       "      <td>NaN</td>\n",
       "    </tr>\n",
       "    <tr>\n",
       "      <th>1</th>\n",
       "      <td>UONE</td>\n",
       "      <td>2021-03-17</td>\n",
       "      <td>5.53</td>\n",
       "      <td>5.95</td>\n",
       "      <td>5.33</td>\n",
       "      <td>5.96</td>\n",
       "      <td>5.95</td>\n",
       "      <td>367500.0</td>\n",
       "      <td>2021-03-16</td>\n",
       "      <td>5.59</td>\n",
       "      <td>0.36</td>\n",
       "      <td>6.44</td>\n",
       "    </tr>\n",
       "    <tr>\n",
       "      <th>2</th>\n",
       "      <td>UONE</td>\n",
       "      <td>2021-03-18</td>\n",
       "      <td>6.65</td>\n",
       "      <td>6.01</td>\n",
       "      <td>5.94</td>\n",
       "      <td>7.30</td>\n",
       "      <td>6.01</td>\n",
       "      <td>7392200.0</td>\n",
       "      <td>2021-03-16</td>\n",
       "      <td>5.95</td>\n",
       "      <td>0.06</td>\n",
       "      <td>1.01</td>\n",
       "    </tr>\n",
       "    <tr>\n",
       "      <th>3</th>\n",
       "      <td>UONE</td>\n",
       "      <td>2021-03-19</td>\n",
       "      <td>6.02</td>\n",
       "      <td>5.86</td>\n",
       "      <td>5.84</td>\n",
       "      <td>6.50</td>\n",
       "      <td>5.86</td>\n",
       "      <td>1413000.0</td>\n",
       "      <td>2021-03-16</td>\n",
       "      <td>6.01</td>\n",
       "      <td>-0.15</td>\n",
       "      <td>-2.50</td>\n",
       "    </tr>\n",
       "    <tr>\n",
       "      <th>4</th>\n",
       "      <td>UONE</td>\n",
       "      <td>2021-03-22</td>\n",
       "      <td>5.98</td>\n",
       "      <td>5.70</td>\n",
       "      <td>5.69</td>\n",
       "      <td>6.09</td>\n",
       "      <td>5.70</td>\n",
       "      <td>346000.0</td>\n",
       "      <td>2021-03-16</td>\n",
       "      <td>5.86</td>\n",
       "      <td>-0.16</td>\n",
       "      <td>-2.73</td>\n",
       "    </tr>\n",
       "    <tr>\n",
       "      <th>5</th>\n",
       "      <td>UONE</td>\n",
       "      <td>2021-03-23</td>\n",
       "      <td>5.61</td>\n",
       "      <td>5.45</td>\n",
       "      <td>5.41</td>\n",
       "      <td>5.85</td>\n",
       "      <td>5.45</td>\n",
       "      <td>392000.0</td>\n",
       "      <td>2021-03-16</td>\n",
       "      <td>5.70</td>\n",
       "      <td>-0.25</td>\n",
       "      <td>-4.39</td>\n",
       "    </tr>\n",
       "    <tr>\n",
       "      <th>6</th>\n",
       "      <td>UONE</td>\n",
       "      <td>2021-03-24</td>\n",
       "      <td>5.50</td>\n",
       "      <td>5.38</td>\n",
       "      <td>5.33</td>\n",
       "      <td>5.81</td>\n",
       "      <td>5.38</td>\n",
       "      <td>393300.0</td>\n",
       "      <td>2021-03-16</td>\n",
       "      <td>5.45</td>\n",
       "      <td>-0.07</td>\n",
       "      <td>-1.28</td>\n",
       "    </tr>\n",
       "    <tr>\n",
       "      <th>7</th>\n",
       "      <td>UONE</td>\n",
       "      <td>2021-03-25</td>\n",
       "      <td>5.25</td>\n",
       "      <td>5.42</td>\n",
       "      <td>5.17</td>\n",
       "      <td>5.52</td>\n",
       "      <td>5.42</td>\n",
       "      <td>236600.0</td>\n",
       "      <td>2021-03-16</td>\n",
       "      <td>5.38</td>\n",
       "      <td>0.04</td>\n",
       "      <td>0.74</td>\n",
       "    </tr>\n",
       "    <tr>\n",
       "      <th>8</th>\n",
       "      <td>UONE</td>\n",
       "      <td>2021-03-26</td>\n",
       "      <td>5.41</td>\n",
       "      <td>5.30</td>\n",
       "      <td>5.13</td>\n",
       "      <td>5.67</td>\n",
       "      <td>5.30</td>\n",
       "      <td>1075600.0</td>\n",
       "      <td>2021-03-16</td>\n",
       "      <td>5.42</td>\n",
       "      <td>-0.12</td>\n",
       "      <td>-2.21</td>\n",
       "    </tr>\n",
       "    <tr>\n",
       "      <th>9</th>\n",
       "      <td>UONE</td>\n",
       "      <td>2021-03-29</td>\n",
       "      <td>5.31</td>\n",
       "      <td>5.34</td>\n",
       "      <td>5.17</td>\n",
       "      <td>5.43</td>\n",
       "      <td>5.34</td>\n",
       "      <td>259100.0</td>\n",
       "      <td>2021-03-16</td>\n",
       "      <td>5.30</td>\n",
       "      <td>0.04</td>\n",
       "      <td>0.75</td>\n",
       "    </tr>\n",
       "  </tbody>\n",
       "</table>\n",
       "</div>"
      ],
      "text/plain": [
       "   Name        Date  Open  Close   Low  High  AdjClose     Volume  \\\n",
       "0  UONE  2021-03-16  5.75   5.59  5.49  5.86      5.59   351000.0   \n",
       "1  UONE  2021-03-17  5.53   5.95  5.33  5.96      5.95   367500.0   \n",
       "2  UONE  2021-03-18  6.65   6.01  5.94  7.30      6.01  7392200.0   \n",
       "3  UONE  2021-03-19  6.02   5.86  5.84  6.50      5.86  1413000.0   \n",
       "4  UONE  2021-03-22  5.98   5.70  5.69  6.09      5.70   346000.0   \n",
       "5  UONE  2021-03-23  5.61   5.45  5.41  5.85      5.45   392000.0   \n",
       "6  UONE  2021-03-24  5.50   5.38  5.33  5.81      5.38   393300.0   \n",
       "7  UONE  2021-03-25  5.25   5.42  5.17  5.52      5.42   236600.0   \n",
       "8  UONE  2021-03-26  5.41   5.30  5.13  5.67      5.30  1075600.0   \n",
       "9  UONE  2021-03-29  5.31   5.34  5.17  5.43      5.34   259100.0   \n",
       "\n",
       "  record_ingestion_date  prev_close  change  change_in_percent  \n",
       "0            2021-03-16         NaN    0.00                NaN  \n",
       "1            2021-03-16        5.59    0.36               6.44  \n",
       "2            2021-03-16        5.95    0.06               1.01  \n",
       "3            2021-03-16        6.01   -0.15              -2.50  \n",
       "4            2021-03-16        5.86   -0.16              -2.73  \n",
       "5            2021-03-16        5.70   -0.25              -4.39  \n",
       "6            2021-03-16        5.45   -0.07              -1.28  \n",
       "7            2021-03-16        5.38    0.04               0.74  \n",
       "8            2021-03-16        5.42   -0.12              -2.21  \n",
       "9            2021-03-16        5.30    0.04               0.75  "
      ]
     },
     "execution_count": 17,
     "metadata": {},
     "output_type": "execute_result"
    }
   ],
   "source": [
    "df = spark.read \\\n",
    "  .format('bigquery') \\\n",
    "  .load('itd-aia-datalake.janus_graph.symbols_by_close').filter(col(\"Name\") == 'UONE').orderBy(\"Date\")\n",
    "#df.show(10)\n",
    "pndf = df.toPandas()\n",
    "pndf.head(10)"
   ]
  },
  {
   "cell_type": "code",
   "execution_count": 18,
   "id": "6b029681",
   "metadata": {},
   "outputs": [
    {
     "data": {
      "text/html": [
       "<div>\n",
       "<style scoped>\n",
       "    .dataframe tbody tr th:only-of-type {\n",
       "        vertical-align: middle;\n",
       "    }\n",
       "\n",
       "    .dataframe tbody tr th {\n",
       "        vertical-align: top;\n",
       "    }\n",
       "\n",
       "    .dataframe thead th {\n",
       "        text-align: right;\n",
       "    }\n",
       "</style>\n",
       "<table border=\"1\" class=\"dataframe\">\n",
       "  <thead>\n",
       "    <tr style=\"text-align: right;\">\n",
       "      <th></th>\n",
       "      <th>Name</th>\n",
       "      <th>Open</th>\n",
       "      <th>Close</th>\n",
       "      <th>Low</th>\n",
       "      <th>High</th>\n",
       "      <th>AdjClose</th>\n",
       "      <th>Volume</th>\n",
       "      <th>record_ingestion_date</th>\n",
       "      <th>prev_close</th>\n",
       "      <th>change</th>\n",
       "      <th>change_in_percent</th>\n",
       "    </tr>\n",
       "    <tr>\n",
       "      <th>Date</th>\n",
       "      <th></th>\n",
       "      <th></th>\n",
       "      <th></th>\n",
       "      <th></th>\n",
       "      <th></th>\n",
       "      <th></th>\n",
       "      <th></th>\n",
       "      <th></th>\n",
       "      <th></th>\n",
       "      <th></th>\n",
       "      <th></th>\n",
       "    </tr>\n",
       "  </thead>\n",
       "  <tbody>\n",
       "    <tr>\n",
       "      <th>2021-03-16</th>\n",
       "      <td>UONE</td>\n",
       "      <td>5.75</td>\n",
       "      <td>5.59</td>\n",
       "      <td>5.49</td>\n",
       "      <td>5.86</td>\n",
       "      <td>5.59</td>\n",
       "      <td>351000.0</td>\n",
       "      <td>2021-03-16</td>\n",
       "      <td>NaN</td>\n",
       "      <td>0.00</td>\n",
       "      <td>NaN</td>\n",
       "    </tr>\n",
       "    <tr>\n",
       "      <th>2021-03-17</th>\n",
       "      <td>UONE</td>\n",
       "      <td>5.53</td>\n",
       "      <td>5.95</td>\n",
       "      <td>5.33</td>\n",
       "      <td>5.96</td>\n",
       "      <td>5.95</td>\n",
       "      <td>367500.0</td>\n",
       "      <td>2021-03-16</td>\n",
       "      <td>5.59</td>\n",
       "      <td>0.36</td>\n",
       "      <td>6.44</td>\n",
       "    </tr>\n",
       "    <tr>\n",
       "      <th>2021-03-18</th>\n",
       "      <td>UONE</td>\n",
       "      <td>6.65</td>\n",
       "      <td>6.01</td>\n",
       "      <td>5.94</td>\n",
       "      <td>7.30</td>\n",
       "      <td>6.01</td>\n",
       "      <td>7392200.0</td>\n",
       "      <td>2021-03-16</td>\n",
       "      <td>5.95</td>\n",
       "      <td>0.06</td>\n",
       "      <td>1.01</td>\n",
       "    </tr>\n",
       "    <tr>\n",
       "      <th>2021-03-19</th>\n",
       "      <td>UONE</td>\n",
       "      <td>6.02</td>\n",
       "      <td>5.86</td>\n",
       "      <td>5.84</td>\n",
       "      <td>6.50</td>\n",
       "      <td>5.86</td>\n",
       "      <td>1413000.0</td>\n",
       "      <td>2021-03-16</td>\n",
       "      <td>6.01</td>\n",
       "      <td>-0.15</td>\n",
       "      <td>-2.50</td>\n",
       "    </tr>\n",
       "    <tr>\n",
       "      <th>2021-03-22</th>\n",
       "      <td>UONE</td>\n",
       "      <td>5.98</td>\n",
       "      <td>5.70</td>\n",
       "      <td>5.69</td>\n",
       "      <td>6.09</td>\n",
       "      <td>5.70</td>\n",
       "      <td>346000.0</td>\n",
       "      <td>2021-03-16</td>\n",
       "      <td>5.86</td>\n",
       "      <td>-0.16</td>\n",
       "      <td>-2.73</td>\n",
       "    </tr>\n",
       "    <tr>\n",
       "      <th>2021-03-23</th>\n",
       "      <td>UONE</td>\n",
       "      <td>5.61</td>\n",
       "      <td>5.45</td>\n",
       "      <td>5.41</td>\n",
       "      <td>5.85</td>\n",
       "      <td>5.45</td>\n",
       "      <td>392000.0</td>\n",
       "      <td>2021-03-16</td>\n",
       "      <td>5.70</td>\n",
       "      <td>-0.25</td>\n",
       "      <td>-4.39</td>\n",
       "    </tr>\n",
       "    <tr>\n",
       "      <th>2021-03-24</th>\n",
       "      <td>UONE</td>\n",
       "      <td>5.50</td>\n",
       "      <td>5.38</td>\n",
       "      <td>5.33</td>\n",
       "      <td>5.81</td>\n",
       "      <td>5.38</td>\n",
       "      <td>393300.0</td>\n",
       "      <td>2021-03-16</td>\n",
       "      <td>5.45</td>\n",
       "      <td>-0.07</td>\n",
       "      <td>-1.28</td>\n",
       "    </tr>\n",
       "    <tr>\n",
       "      <th>2021-03-25</th>\n",
       "      <td>UONE</td>\n",
       "      <td>5.25</td>\n",
       "      <td>5.42</td>\n",
       "      <td>5.17</td>\n",
       "      <td>5.52</td>\n",
       "      <td>5.42</td>\n",
       "      <td>236600.0</td>\n",
       "      <td>2021-03-16</td>\n",
       "      <td>5.38</td>\n",
       "      <td>0.04</td>\n",
       "      <td>0.74</td>\n",
       "    </tr>\n",
       "    <tr>\n",
       "      <th>2021-03-26</th>\n",
       "      <td>UONE</td>\n",
       "      <td>5.41</td>\n",
       "      <td>5.30</td>\n",
       "      <td>5.13</td>\n",
       "      <td>5.67</td>\n",
       "      <td>5.30</td>\n",
       "      <td>1075600.0</td>\n",
       "      <td>2021-03-16</td>\n",
       "      <td>5.42</td>\n",
       "      <td>-0.12</td>\n",
       "      <td>-2.21</td>\n",
       "    </tr>\n",
       "    <tr>\n",
       "      <th>2021-03-29</th>\n",
       "      <td>UONE</td>\n",
       "      <td>5.31</td>\n",
       "      <td>5.34</td>\n",
       "      <td>5.17</td>\n",
       "      <td>5.43</td>\n",
       "      <td>5.34</td>\n",
       "      <td>259100.0</td>\n",
       "      <td>2021-03-16</td>\n",
       "      <td>5.30</td>\n",
       "      <td>0.04</td>\n",
       "      <td>0.75</td>\n",
       "    </tr>\n",
       "  </tbody>\n",
       "</table>\n",
       "</div>"
      ],
      "text/plain": [
       "            Name  Open  Close   Low  High  AdjClose     Volume  \\\n",
       "Date                                                             \n",
       "2021-03-16  UONE  5.75   5.59  5.49  5.86      5.59   351000.0   \n",
       "2021-03-17  UONE  5.53   5.95  5.33  5.96      5.95   367500.0   \n",
       "2021-03-18  UONE  6.65   6.01  5.94  7.30      6.01  7392200.0   \n",
       "2021-03-19  UONE  6.02   5.86  5.84  6.50      5.86  1413000.0   \n",
       "2021-03-22  UONE  5.98   5.70  5.69  6.09      5.70   346000.0   \n",
       "2021-03-23  UONE  5.61   5.45  5.41  5.85      5.45   392000.0   \n",
       "2021-03-24  UONE  5.50   5.38  5.33  5.81      5.38   393300.0   \n",
       "2021-03-25  UONE  5.25   5.42  5.17  5.52      5.42   236600.0   \n",
       "2021-03-26  UONE  5.41   5.30  5.13  5.67      5.30  1075600.0   \n",
       "2021-03-29  UONE  5.31   5.34  5.17  5.43      5.34   259100.0   \n",
       "\n",
       "           record_ingestion_date  prev_close  change  change_in_percent  \n",
       "Date                                                                     \n",
       "2021-03-16            2021-03-16         NaN    0.00                NaN  \n",
       "2021-03-17            2021-03-16        5.59    0.36               6.44  \n",
       "2021-03-18            2021-03-16        5.95    0.06               1.01  \n",
       "2021-03-19            2021-03-16        6.01   -0.15              -2.50  \n",
       "2021-03-22            2021-03-16        5.86   -0.16              -2.73  \n",
       "2021-03-23            2021-03-16        5.70   -0.25              -4.39  \n",
       "2021-03-24            2021-03-16        5.45   -0.07              -1.28  \n",
       "2021-03-25            2021-03-16        5.38    0.04               0.74  \n",
       "2021-03-26            2021-03-16        5.42   -0.12              -2.21  \n",
       "2021-03-29            2021-03-16        5.30    0.04               0.75  "
      ]
     },
     "execution_count": 18,
     "metadata": {},
     "output_type": "execute_result"
    }
   ],
   "source": [
    "pndf.set_index('Date',inplace=True)\n",
    "pndf.head(10)"
   ]
  },
  {
   "cell_type": "code",
   "execution_count": 19,
   "id": "4cf672a4",
   "metadata": {},
   "outputs": [
    {
     "name": "stdout",
     "output_type": "stream",
     "text": [
      "There are 65 number of days in the dataset.\n"
     ]
    }
   ],
   "source": [
    "print('There are {} number of days in the dataset.'.format(pndf.shape[0]))"
   ]
  },
  {
   "cell_type": "code",
   "execution_count": 20,
   "id": "de7fb211",
   "metadata": {},
   "outputs": [
    {
     "data": {
      "image/png": "[encoded data removed]",
      "text/plain": [
       "<Figure size 432x288 with 1 Axes>"
      ]
     },
     "metadata": {
      "needs_background": "light"
     },
     "output_type": "display_data"
    }
   ],
   "source": [
    "%matplotlib inline\n",
    "import matplotlib.pyplot as plt\n",
    "pndf.plot();"
   ]
  },
  {
   "cell_type": "code",
   "execution_count": 21,
   "id": "0557f16a",
   "metadata": {},
   "outputs": [],
   "source": [
    "prices = pndf['Close']\n",
    "volumes = pndf['Volume']"
   ]
  },
  {
   "cell_type": "code",
   "execution_count": 22,
   "id": "f26e508b",
   "metadata": {},
   "outputs": [
    {
     "data": {
      "text/plain": [
       "Date\n",
       "2021-06-10     1548800.0\n",
       "2021-06-11    37137000.0\n",
       "2021-06-14     9538900.0\n",
       "2021-06-15     6310500.0\n",
       "2021-06-16     3130482.0\n",
       "Name: Volume, dtype: float64"
      ]
     },
     "execution_count": 22,
     "metadata": {},
     "output_type": "execute_result"
    }
   ],
   "source": [
    "volumes.tail()"
   ]
  },
  {
   "cell_type": "code",
   "execution_count": 23,
   "id": "f6451e52",
   "metadata": {},
   "outputs": [
    {
     "data": {
      "text/plain": [
       "Date\n",
       "2021-03-16    5.59\n",
       "2021-03-17    5.95\n",
       "2021-03-18    6.01\n",
       "2021-03-19    5.86\n",
       "2021-03-22    5.70\n",
       "Name: Close, dtype: float64"
      ]
     },
     "execution_count": 23,
     "metadata": {},
     "output_type": "execute_result"
    }
   ],
   "source": [
    "prices.head()"
   ]
  },
  {
   "cell_type": "code",
   "execution_count": 24,
   "id": "5b6fed43",
   "metadata": {},
   "outputs": [
    {
     "data": {
      "image/png": "[encoded data removed]",
      "text/plain": [
       "<Figure size 864x576 with 2 Axes>"
      ]
     },
     "metadata": {
      "needs_background": "light"
     },
     "output_type": "display_data"
    }
   ],
   "source": [
    "# The top plot consisting of dailing closing prices\n",
    "top = plt.subplot2grid((4, 4), (0, 0), rowspan=3, colspan=4)\n",
    "top.plot(prices.index, prices, label='Close')\n",
    "plt.title('ABN Last Price from 2015 - 2018')\n",
    "plt.legend(loc=2)\n",
    "\n",
    "# The bottom plot consisting of daily trading volume\n",
    "bottom = plt.subplot2grid((4, 4), (3,0), rowspan=1, colspan=4)\n",
    "bottom.bar(volumes.index, volumes)\n",
    "plt.title('ABN Daily Trading Volume')\n",
    "\n",
    "plt.gcf().set_size_inches(12, 8)\n",
    "plt.subplots_adjust(hspace=0.75)"
   ]
  },
  {
   "cell_type": "code",
   "execution_count": 25,
   "id": "7e0fb22e",
   "metadata": {},
   "outputs": [
    {
     "data": {
      "text/plain": [
       "([<matplotlib.lines.Line2D at 0x11b47fd90>,\n",
       "  <matplotlib.lines.Line2D at 0x11b48ffd0>,\n",
       "  <matplotlib.lines.Line2D at 0x11b49e250>,\n",
       "  <matplotlib.lines.Line2D at 0x11b49ef50>,\n",
       "  <matplotlib.lines.Line2D at 0x11b49ecd0>,\n",
       "  <matplotlib.lines.Line2D at 0x11b4ab850>,\n",
       "  <matplotlib.lines.Line2D at 0x11b4abc90>,\n",
       "  <matplotlib.lines.Line2D at 0x11b4b7ed0>,\n",
       "  <matplotlib.lines.Line2D at 0x11b4b7fd0>,\n",
       "  <matplotlib.lines.Line2D at 0x11b4abf50>,\n",
       "  <matplotlib.lines.Line2D at 0x11b4c3e50>,\n",
       "  <matplotlib.lines.Line2D at 0x11b4d1c50>,\n",
       "  <matplotlib.lines.Line2D at 0x11b4d1d50>,\n",
       "  <matplotlib.lines.Line2D at 0x11b4ddb90>,\n",
       "  <matplotlib.lines.Line2D at 0x11b4ddc90>,\n",
       "  <matplotlib.lines.Line2D at 0x11b4e9ad0>,\n",
       "  <matplotlib.lines.Line2D at 0x11b4e9fd0>,\n",
       "  <matplotlib.lines.Line2D at 0x11b4f5a10>,\n",
       "  <matplotlib.lines.Line2D at 0x11b4f5f10>,\n",
       "  <matplotlib.lines.Line2D at 0x11b501950>,\n",
       "  <matplotlib.lines.Line2D at 0x11b501e50>,\n",
       "  <matplotlib.lines.Line2D at 0x11b50e890>,\n",
       "  <matplotlib.lines.Line2D at 0x11b50efd0>,\n",
       "  <matplotlib.lines.Line2D at 0x11b519050>,\n",
       "  <matplotlib.lines.Line2D at 0x11b519f50>,\n",
       "  <matplotlib.lines.Line2D at 0x11b519cd0>,\n",
       "  <matplotlib.lines.Line2D at 0x11b529e90>,\n",
       "  <matplotlib.lines.Line2D at 0x11b529fd0>,\n",
       "  <matplotlib.lines.Line2D at 0x11b535dd0>,\n",
       "  <matplotlib.lines.Line2D at 0x11b535ed0>,\n",
       "  <matplotlib.lines.Line2D at 0x11b541d10>,\n",
       "  <matplotlib.lines.Line2D at 0x11b541e10>,\n",
       "  <matplotlib.lines.Line2D at 0x11b54cc50>,\n",
       "  <matplotlib.lines.Line2D at 0x11b54cd50>,\n",
       "  <matplotlib.lines.Line2D at 0x11b559b90>,\n",
       "  <matplotlib.lines.Line2D at 0x11b559c90>,\n",
       "  <matplotlib.lines.Line2D at 0x11b565ad0>,\n",
       "  <matplotlib.lines.Line2D at 0x11b565fd0>,\n",
       "  <matplotlib.lines.Line2D at 0x11b572a10>,\n",
       "  <matplotlib.lines.Line2D at 0x11b572f10>,\n",
       "  <matplotlib.lines.Line2D at 0x11b57d950>,\n",
       "  <matplotlib.lines.Line2D at 0x11b57de50>,\n",
       "  <matplotlib.lines.Line2D at 0x11b58b890>,\n",
       "  <matplotlib.lines.Line2D at 0x11b58bfd0>,\n",
       "  <matplotlib.lines.Line2D at 0x11b598050>,\n",
       "  <matplotlib.lines.Line2D at 0x11b598f50>,\n",
       "  <matplotlib.lines.Line2D at 0x11b598cd0>,\n",
       "  <matplotlib.lines.Line2D at 0x11b5a4e90>,\n",
       "  <matplotlib.lines.Line2D at 0x11b5a4fd0>,\n",
       "  <matplotlib.lines.Line2D at 0x11b5b1dd0>,\n",
       "  <matplotlib.lines.Line2D at 0x11b5b1ed0>,\n",
       "  <matplotlib.lines.Line2D at 0x11b5bfd10>,\n",
       "  <matplotlib.lines.Line2D at 0x11b5bfe10>,\n",
       "  <matplotlib.lines.Line2D at 0x11b5cac50>,\n",
       "  <matplotlib.lines.Line2D at 0x11b5cad50>,\n",
       "  <matplotlib.lines.Line2D at 0x11b5d6b90>,\n",
       "  <matplotlib.lines.Line2D at 0x11b5d6c90>,\n",
       "  <matplotlib.lines.Line2D at 0x11b5e3ad0>,\n",
       "  <matplotlib.lines.Line2D at 0x11b5e3fd0>,\n",
       "  <matplotlib.lines.Line2D at 0x11b5efa10>,\n",
       "  <matplotlib.lines.Line2D at 0x11b5eff10>,\n",
       "  <matplotlib.lines.Line2D at 0x11b5fb950>,\n",
       "  <matplotlib.lines.Line2D at 0x11b5fbe50>,\n",
       "  <matplotlib.lines.Line2D at 0x11b607890>,\n",
       "  <matplotlib.lines.Line2D at 0x11b607fd0>],\n",
       " [<matplotlib.patches.Rectangle at 0x11b46bb10>,\n",
       "  <matplotlib.patches.Rectangle at 0x11b49e150>,\n",
       "  <matplotlib.patches.Rectangle at 0x11b49e790>,\n",
       "  <matplotlib.patches.Rectangle at 0x11b4ab0d0>,\n",
       "  <matplotlib.patches.Rectangle at 0x11b4ab6d0>,\n",
       "  <matplotlib.patches.Rectangle at 0x11b4b7090>,\n",
       "  <matplotlib.patches.Rectangle at 0x11b4b7710>,\n",
       "  <matplotlib.patches.Rectangle at 0x11b4c3050>,\n",
       "  <matplotlib.patches.Rectangle at 0x11b4c3650>,\n",
       "  <matplotlib.patches.Rectangle at 0x11b4c3ed0>,\n",
       "  <matplotlib.patches.Rectangle at 0x11b4d1490>,\n",
       "  <matplotlib.patches.Rectangle at 0x11b4d19d0>,\n",
       "  <matplotlib.patches.Rectangle at 0x11b4dd3d0>,\n",
       "  <matplotlib.patches.Rectangle at 0x11b4dd910>,\n",
       "  <matplotlib.patches.Rectangle at 0x11b4e9310>,\n",
       "  <matplotlib.patches.Rectangle at 0x11b4e9850>,\n",
       "  <matplotlib.patches.Rectangle at 0x11b4f5250>,\n",
       "  <matplotlib.patches.Rectangle at 0x11b4f5790>,\n",
       "  <matplotlib.patches.Rectangle at 0x11b501190>,\n",
       "  <matplotlib.patches.Rectangle at 0x11b5016d0>,\n",
       "  <matplotlib.patches.Rectangle at 0x11b50e0d0>,\n",
       "  <matplotlib.patches.Rectangle at 0x11b50e610>,\n",
       "  <matplotlib.patches.Rectangle at 0x11b519150>,\n",
       "  <matplotlib.patches.Rectangle at 0x11b519790>,\n",
       "  <matplotlib.patches.Rectangle at 0x11b5290d0>,\n",
       "  <matplotlib.patches.Rectangle at 0x11b5296d0>,\n",
       "  <matplotlib.patches.Rectangle at 0x11b529e50>,\n",
       "  <matplotlib.patches.Rectangle at 0x11b535610>,\n",
       "  <matplotlib.patches.Rectangle at 0x11b535b50>,\n",
       "  <matplotlib.patches.Rectangle at 0x11b541550>,\n",
       "  <matplotlib.patches.Rectangle at 0x11b541a90>,\n",
       "  <matplotlib.patches.Rectangle at 0x11b54c490>,\n",
       "  <matplotlib.patches.Rectangle at 0x11b54c9d0>,\n",
       "  <matplotlib.patches.Rectangle at 0x11b5593d0>,\n",
       "  <matplotlib.patches.Rectangle at 0x11b559910>,\n",
       "  <matplotlib.patches.Rectangle at 0x11b565310>,\n",
       "  <matplotlib.patches.Rectangle at 0x11b565850>,\n",
       "  <matplotlib.patches.Rectangle at 0x11b572250>,\n",
       "  <matplotlib.patches.Rectangle at 0x11b572790>,\n",
       "  <matplotlib.patches.Rectangle at 0x11b57d190>,\n",
       "  <matplotlib.patches.Rectangle at 0x11b57d6d0>,\n",
       "  <matplotlib.patches.Rectangle at 0x11b58b0d0>,\n",
       "  <matplotlib.patches.Rectangle at 0x11b58b610>,\n",
       "  <matplotlib.patches.Rectangle at 0x11b598150>,\n",
       "  <matplotlib.patches.Rectangle at 0x11b598790>,\n",
       "  <matplotlib.patches.Rectangle at 0x11b5a40d0>,\n",
       "  <matplotlib.patches.Rectangle at 0x11b5a46d0>,\n",
       "  <matplotlib.patches.Rectangle at 0x11b5a4e50>,\n",
       "  <matplotlib.patches.Rectangle at 0x11b5b1610>,\n",
       "  <matplotlib.patches.Rectangle at 0x11b5b1b50>,\n",
       "  <matplotlib.patches.Rectangle at 0x11b5bf550>,\n",
       "  <matplotlib.patches.Rectangle at 0x11b5bfa90>,\n",
       "  <matplotlib.patches.Rectangle at 0x11b5ca490>,\n",
       "  <matplotlib.patches.Rectangle at 0x11b5ca9d0>,\n",
       "  <matplotlib.patches.Rectangle at 0x11b5d63d0>,\n",
       "  <matplotlib.patches.Rectangle at 0x11b5d6910>,\n",
       "  <matplotlib.patches.Rectangle at 0x11b5e3310>,\n",
       "  <matplotlib.patches.Rectangle at 0x11b5e3850>,\n",
       "  <matplotlib.patches.Rectangle at 0x11b5ef250>,\n",
       "  <matplotlib.patches.Rectangle at 0x11b5ef790>,\n",
       "  <matplotlib.patches.Rectangle at 0x11b5fb190>,\n",
       "  <matplotlib.patches.Rectangle at 0x11b5fb6d0>,\n",
       "  <matplotlib.patches.Rectangle at 0x11b6070d0>,\n",
       "  <matplotlib.patches.Rectangle at 0x11b607610>,\n",
       "  <matplotlib.patches.Rectangle at 0x11b613150>])"
      ]
     },
     "execution_count": 25,
     "metadata": {},
     "output_type": "execute_result"
    },
    {
     "data": {
      "image/png": "[encoded data removed]",
      "text/plain": [
       "<Figure size 576x288 with 1 Axes>"
      ]
     },
     "metadata": {
      "needs_background": "light"
     },
     "output_type": "display_data"
    }
   ],
   "source": [
    "%matplotlib inline\n",
    "import mplfinance as mpf \n",
    "from mplfinance.original_flavor import candlestick_ohlc\n",
    "import matplotlib.dates as mdates\n",
    "import matplotlib.pyplot as plt\n",
    "\n",
    "\n",
    "df_subset = pndf\n",
    "df_subset.index = pd.to_datetime(df_subset.index)\n",
    "df_subset['Date'] = df_subset.index.map(mdates.date2num)\n",
    "df_ohlc = df_subset[['Date','Open', 'High', 'Low', 'Close']]\n",
    "\n",
    "figure, ax = plt.subplots(figsize = (8,4))\n",
    "formatter = mdates.DateFormatter('%Y-%m-%d')\n",
    "ax.xaxis.set_major_formatter(formatter)\n",
    "candlestick_ohlc(ax, \n",
    "                 df_ohlc.values, \n",
    "                 width=0.8, \n",
    "                 colorup='green', \n",
    "                 colordown='red')\n"
   ]
  },
  {
   "cell_type": "code",
   "execution_count": 26,
   "id": "5fa5c500",
   "metadata": {},
   "outputs": [],
   "source": [
    "#mpf.plot(df_subset, type='candle', style='charles',title='S&P 500',ylabel='Price ($)',ylabel_lower='Shares \\nTraded',volume=True, mav=(3,6,9))"
   ]
  },
  {
   "cell_type": "code",
   "execution_count": 27,
   "id": "002572b4",
   "metadata": {},
   "outputs": [
    {
     "name": "stdout",
     "output_type": "stream",
     "text": [
      "Date     float64\n",
      "Open     float64\n",
      "High     float64\n",
      "Low      float64\n",
      "Close    float64\n",
      "dtype: object\n"
     ]
    }
   ],
   "source": [
    "print (df_ohlc.dtypes)"
   ]
  },
  {
   "cell_type": "code",
   "execution_count": 28,
   "id": "1101a54b",
   "metadata": {},
   "outputs": [
    {
     "data": {
      "text/html": [
       "<div>\n",
       "<style scoped>\n",
       "    .dataframe tbody tr th:only-of-type {\n",
       "        vertical-align: middle;\n",
       "    }\n",
       "\n",
       "    .dataframe tbody tr th {\n",
       "        vertical-align: top;\n",
       "    }\n",
       "\n",
       "    .dataframe thead th {\n",
       "        text-align: right;\n",
       "    }\n",
       "</style>\n",
       "<table border=\"1\" class=\"dataframe\">\n",
       "  <thead>\n",
       "    <tr style=\"text-align: right;\">\n",
       "      <th></th>\n",
       "      <th>Close</th>\n",
       "    </tr>\n",
       "    <tr>\n",
       "      <th>Date</th>\n",
       "      <th></th>\n",
       "    </tr>\n",
       "  </thead>\n",
       "  <tbody>\n",
       "    <tr>\n",
       "      <th>2021-03-16</th>\n",
       "      <td>5.59</td>\n",
       "    </tr>\n",
       "    <tr>\n",
       "      <th>2021-03-17</th>\n",
       "      <td>5.95</td>\n",
       "    </tr>\n",
       "    <tr>\n",
       "      <th>2021-03-18</th>\n",
       "      <td>6.01</td>\n",
       "    </tr>\n",
       "    <tr>\n",
       "      <th>2021-03-19</th>\n",
       "      <td>5.86</td>\n",
       "    </tr>\n",
       "    <tr>\n",
       "      <th>2021-03-22</th>\n",
       "      <td>5.70</td>\n",
       "    </tr>\n",
       "    <tr>\n",
       "      <th>2021-03-23</th>\n",
       "      <td>5.45</td>\n",
       "    </tr>\n",
       "    <tr>\n",
       "      <th>2021-03-24</th>\n",
       "      <td>5.38</td>\n",
       "    </tr>\n",
       "    <tr>\n",
       "      <th>2021-03-25</th>\n",
       "      <td>5.42</td>\n",
       "    </tr>\n",
       "    <tr>\n",
       "      <th>2021-03-26</th>\n",
       "      <td>5.30</td>\n",
       "    </tr>\n",
       "    <tr>\n",
       "      <th>2021-03-29</th>\n",
       "      <td>5.34</td>\n",
       "    </tr>\n",
       "  </tbody>\n",
       "</table>\n",
       "</div>"
      ],
      "text/plain": [
       "            Close\n",
       "Date             \n",
       "2021-03-16   5.59\n",
       "2021-03-17   5.95\n",
       "2021-03-18   6.01\n",
       "2021-03-19   5.86\n",
       "2021-03-22   5.70\n",
       "2021-03-23   5.45\n",
       "2021-03-24   5.38\n",
       "2021-03-25   5.42\n",
       "2021-03-26   5.30\n",
       "2021-03-29   5.34"
      ]
     },
     "execution_count": 28,
     "metadata": {},
     "output_type": "execute_result"
    }
   ],
   "source": [
    "dcdf = df_ohlc[['Close']]\n",
    "dcdf.head(10)"
   ]
  },
  {
   "cell_type": "code",
   "execution_count": 29,
   "id": "24d7d262",
   "metadata": {},
   "outputs": [
    {
     "data": {
      "image/png": "[encoded data removed]",
      "text/plain": [
       "<Figure size 432x288 with 1 Axes>"
      ]
     },
     "metadata": {
      "needs_background": "light"
     },
     "output_type": "display_data"
    }
   ],
   "source": [
    "daily_changes = dcdf.pct_change(periods=1)\n",
    "daily_changes.plot();"
   ]
  },
  {
   "cell_type": "code",
   "execution_count": 30,
   "id": "52a596b4",
   "metadata": {},
   "outputs": [
    {
     "data": {
      "image/png": "[encoded data removed]",
      "text/plain": [
       "<Figure size 432x288 with 1 Axes>"
      ]
     },
     "metadata": {
      "needs_background": "light"
     },
     "output_type": "display_data"
    }
   ],
   "source": [
    "df_cumsum = daily_changes.cumsum()\n",
    "df_cumsum.plot();"
   ]
  },
  {
   "cell_type": "code",
   "execution_count": 31,
   "id": "15414700",
   "metadata": {},
   "outputs": [
    {
     "data": {
      "image/png": "[encoded data removed]",
      "text/plain": [
       "<Figure size 576x288 with 1 Axes>"
      ]
     },
     "metadata": {
      "needs_background": "light"
     },
     "output_type": "display_data"
    }
   ],
   "source": [
    "daily_changes.hist(bins=50, figsize=(8, 4));"
   ]
  },
  {
   "cell_type": "code",
   "execution_count": 32,
   "id": "6dd87fe4",
   "metadata": {},
   "outputs": [
    {
     "data": {
      "text/html": [
       "<div>\n",
       "<style scoped>\n",
       "    .dataframe tbody tr th:only-of-type {\n",
       "        vertical-align: middle;\n",
       "    }\n",
       "\n",
       "    .dataframe tbody tr th {\n",
       "        vertical-align: top;\n",
       "    }\n",
       "\n",
       "    .dataframe thead th {\n",
       "        text-align: right;\n",
       "    }\n",
       "</style>\n",
       "<table border=\"1\" class=\"dataframe\">\n",
       "  <thead>\n",
       "    <tr style=\"text-align: right;\">\n",
       "      <th></th>\n",
       "      <th>Close</th>\n",
       "    </tr>\n",
       "  </thead>\n",
       "  <tbody>\n",
       "    <tr>\n",
       "      <th>count</th>\n",
       "      <td>64.000000</td>\n",
       "    </tr>\n",
       "    <tr>\n",
       "      <th>mean</th>\n",
       "      <td>0.023533</td>\n",
       "    </tr>\n",
       "    <tr>\n",
       "      <th>std</th>\n",
       "      <td>0.114869</td>\n",
       "    </tr>\n",
       "    <tr>\n",
       "      <th>min</th>\n",
       "      <td>-0.128661</td>\n",
       "    </tr>\n",
       "    <tr>\n",
       "      <th>25%</th>\n",
       "      <td>-0.028432</td>\n",
       "    </tr>\n",
       "    <tr>\n",
       "      <th>50%</th>\n",
       "      <td>-0.002007</td>\n",
       "    </tr>\n",
       "    <tr>\n",
       "      <th>75%</th>\n",
       "      <td>0.026917</td>\n",
       "    </tr>\n",
       "    <tr>\n",
       "      <th>max</th>\n",
       "      <td>0.590682</td>\n",
       "    </tr>\n",
       "  </tbody>\n",
       "</table>\n",
       "</div>"
      ],
      "text/plain": [
       "           Close\n",
       "count  64.000000\n",
       "mean    0.023533\n",
       "std     0.114869\n",
       "min    -0.128661\n",
       "25%    -0.028432\n",
       "50%    -0.002007\n",
       "75%     0.026917\n",
       "max     0.590682"
      ]
     },
     "execution_count": 32,
     "metadata": {},
     "output_type": "execute_result"
    }
   ],
   "source": [
    "daily_changes.describe()"
   ]
  },
  {
   "cell_type": "code",
   "execution_count": 33,
   "id": "8af07a32",
   "metadata": {},
   "outputs": [
    {
     "data": {
      "image/png": "[encoded data removed]",
      "text/plain": [
       "<Figure size 432x288 with 1 Axes>"
      ]
     },
     "metadata": {
      "needs_background": "light"
     },
     "output_type": "display_data"
    }
   ],
   "source": [
    "df_filled = dcdf.asfreq('D', method='ffill')\n",
    "df_returns = df_filled.pct_change()\n",
    "df_std = df_returns.rolling(window=30, min_periods=30).std()\n",
    "df_std.plot();"
   ]
  },
  {
   "cell_type": "code",
   "execution_count": null,
   "id": "66aa29d9",
   "metadata": {},
   "outputs": [],
   "source": []
  },
  {
   "cell_type": "code",
   "execution_count": 34,
   "id": "af74f607",
   "metadata": {},
   "outputs": [
    {
     "data": {
      "image/png": "[encoded data removed]",
      "text/plain": [
       "<Figure size 864x576 with 1 Axes>"
      ]
     },
     "metadata": {
      "needs_background": "light"
     },
     "output_type": "display_data"
    }
   ],
   "source": [
    "df_filled = pndf.asfreq('D', method='ffill')\n",
    "df_last = pndf['Close']\n",
    "\n",
    "series_short = df_last.rolling(window=5, min_periods=5).mean()\n",
    "series_long = df_last.rolling(window=30, min_periods=30).mean()\n",
    "\n",
    "df_sma = pd.DataFrame(columns=['Low', 'High'])\n",
    "df_sma['short'] = series_short\n",
    "df_sma['long'] = series_long\n",
    "df_sma.plot(figsize=(12, 8));"
   ]
  },
  {
   "cell_type": "code",
   "execution_count": null,
   "id": "fa45b920",
   "metadata": {},
   "outputs": [],
   "source": []
  }
 ],
 "metadata": {
  "kernelspec": {
   "display_name": "Python 3",
   "language": "python",
   "name": "python3"
  },
  "language_info": {
   "codemirror_mode": {
    "name": "ipython",
    "version": 3
   },
   "file_extension": ".py",
   "mimetype": "text/x-python",
   "name": "python",
   "nbconvert_exporter": "python",
   "pygments_lexer": "ipython3",
   "version": "3.7.10"
  }
 },
 "nbformat": 4,
 "nbformat_minor": 5
}
