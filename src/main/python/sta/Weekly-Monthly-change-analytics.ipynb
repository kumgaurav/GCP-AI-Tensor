{
 "cells": [
  {
   "cell_type": "code",
   "execution_count": 5,
   "id": "32f80eaf",
   "metadata": {},
   "outputs": [],
   "source": [
    "import pandas as pd\n",
    "import warnings\n",
    "import datetime\n",
    "from pyspark.conf import SparkConf\n",
    "from pyspark.sql import SparkSession\n",
    "from pyspark.sql.functions import *\n",
    "from google.cloud import bigquery\n",
    "import matplotlib.pyplot as plt\n",
    "%matplotlib inline\n",
    "warnings.filterwarnings(\"ignore\")\n",
    "conf = SparkConf()\n",
    "conf.set(\"viewsEnabled\", \"true\")\n",
    "conf.set(\"materializationDataset\", \"janus_graph\")\n",
    "conf.set(\"materializationProject\", \"itd-aia-datalake\")\n",
    "spark = SparkSession.builder \\\n",
    "  .config('spark.jars', 'gs://spark-lib/bigquery/spark-bigquery-latest_2.12.jar') \\\n",
    "  .config(conf=conf) \\\n",
    "  .getOrCreate()"
   ]
  },
  {
   "cell_type": "code",
   "execution_count": 9,
   "id": "373d188c",
   "metadata": {},
   "outputs": [
    {
     "name": "stdout",
     "output_type": "stream",
     "text": [
      "+-----+------------------------+------------------------+-------------------------+\n",
      "| name|min_price_change_percent|max_price_change_percent|avg__price_change_percent|\n",
      "+-----+------------------------+------------------------+-------------------------+\n",
      "| RAPT|                   -0.64|                  115.51|                    29.37|\n",
      "| NOVN|                    2.03|                   62.39|                    22.08|\n",
      "| SBEV|                  -100.0|                  161.06|                    21.34|\n",
      "|OZYMF|                  -49.49|                   141.4|                    20.76|\n",
      "| NCTY|                    -6.2|                   30.71|                    10.66|\n",
      "| AVXL|                    0.13|                   35.42|                      9.3|\n",
      "| ITOS|                   -3.01|                   37.29|                     9.06|\n",
      "|   BZ|                    7.88|                    7.88|                     7.88|\n",
      "| MARA|                    0.15|                   12.77|                     6.23|\n",
      "| RIOT|                   -1.93|                   14.08|                     6.21|\n",
      "| LFST|                    2.37|                    9.59|                     5.98|\n",
      "|  SIG|                   -0.65|                   13.99|                     5.47|\n",
      "| ANVS|                   -6.06|                   16.83|                     5.12|\n",
      "|  CXW|                   -2.97|                   17.92|                     5.11|\n",
      "| AMEH|                   -6.16|                   20.22|                     4.68|\n",
      "| CLNE|                  -15.59|                   31.52|                     4.41|\n",
      "| UONE|                   -12.6|                    33.2|                      4.4|\n",
      "|  JKS|                   -1.97|                   12.13|                     3.87|\n",
      "| QFIN|                   -0.79|                    7.25|                     3.73|\n",
      "| ATOM|                  -10.49|                   19.31|                     3.72|\n",
      "+-----+------------------------+------------------------+-------------------------+\n",
      "only showing top 20 rows\n",
      "\n"
     ]
    }
   ],
   "source": [
    "sql = \"\"\"\n",
    "      SELECT name, min(change_in_percent) as min_price_change_percent,max(change_in_percent) as max_price_change_percent,ROUND(avg(change_in_percent),2) as avg__price_change_percent \n",
    "      FROM `itd-aia-datalake.janus_graph.symbols_by_close` \n",
    "        where \n",
    "        date > DATE_SUB(current_date(), INTERVAL 7 DAY)\n",
    "        group by name\n",
    "        order by avg__price_change_percent desc limit 50;\n",
    "      \"\"\"\n",
    "df2 = spark.read.format(\"bigquery\").option(\"query\", sql).load()\n",
    "df2.show()"
   ]
  },
  {
   "cell_type": "code",
   "execution_count": 10,
   "id": "1e75e1ec",
   "metadata": {},
   "outputs": [
    {
     "name": "stdout",
     "output_type": "stream",
     "text": [
      "+-----+------------------------+------------------------+-------------------------+\n",
      "| name|min_price_change_percent|max_price_change_percent|avg__price_change_percent|\n",
      "+-----+------------------------+------------------------+-------------------------+\n",
      "|  AMC|                  -17.92|                   95.22|                     9.77|\n",
      "| ANVS|                  -13.12|                  127.27|                     9.22|\n",
      "| UONE|                  -12.87|                   59.07|                     8.55|\n",
      "|   BZ|                    7.88|                    7.88|                     7.88|\n",
      "| LFST|                    2.37|                    9.59|                     5.98|\n",
      "| LEDS|                   -21.8|                   44.86|                     5.48|\n",
      "| RAPT|                  -15.25|                  115.51|                     5.39|\n",
      "| CLOV|                  -23.61|                   85.82|                     5.11|\n",
      "| SPCE|                   -7.52|                   27.62|                     4.44|\n",
      "|OZYMF|                  -49.49|                   141.4|                     4.15|\n",
      "|  BBW|                   -7.51|                   39.31|                     3.96|\n",
      "| NOVN|                  -40.36|                   62.39|                     3.75|\n",
      "| AVXL|                    -2.8|                   35.42|                      3.5|\n",
      "| CNST|                    -2.9|                   65.86|                      3.3|\n",
      "| SAVA|                   -3.74|                   16.05|                     3.24|\n",
      "| QFIN|                   -7.72|                   20.27|                     3.12|\n",
      "| SBEV|                  -100.0|                  161.06|                     3.09|\n",
      "| ATOM|                  -10.49|                   19.31|                     3.03|\n",
      "|   BB|                  -12.72|                   31.92|                     2.96|\n",
      "|  FUV|                  -12.78|                   18.01|                     2.93|\n",
      "+-----+------------------------+------------------------+-------------------------+\n",
      "only showing top 20 rows\n",
      "\n"
     ]
    }
   ],
   "source": [
    "sql = \"\"\"\n",
    "      SELECT name, min(change_in_percent) as min_price_change_percent,max(change_in_percent) as max_price_change_percent,ROUND(avg(change_in_percent),2) as avg__price_change_percent \n",
    "      FROM `itd-aia-datalake.janus_graph.symbols_by_close` \n",
    "        where \n",
    "        date > DATE_SUB(current_date(), INTERVAL 30 DAY)\n",
    "        group by name\n",
    "        order by avg__price_change_percent desc limit 50;\n",
    "      \"\"\"\n",
    "df2 = spark.read.format(\"bigquery\").option(\"query\", sql).load()\n",
    "df2.show()"
   ]
  },
  {
   "cell_type": "code",
   "execution_count": null,
   "id": "7a5cf32e",
   "metadata": {},
   "outputs": [],
   "source": []
  }
 ],
 "metadata": {
  "kernelspec": {
   "display_name": "Python 3",
   "language": "python",
   "name": "python3"
  },
  "language_info": {
   "codemirror_mode": {
    "name": "ipython",
    "version": 3
   },
   "file_extension": ".py",
   "mimetype": "text/x-python",
   "name": "python",
   "nbconvert_exporter": "python",
   "pygments_lexer": "ipython3",
   "version": "3.6.13"
  }
 },
 "nbformat": 4,
 "nbformat_minor": 5
}
