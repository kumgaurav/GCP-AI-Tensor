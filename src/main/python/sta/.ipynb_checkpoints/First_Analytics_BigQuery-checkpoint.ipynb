{
 "cells": [
  {
   "cell_type": "markdown",
   "id": "b00f1a53",
   "metadata": {},
   "source": [
    "1. To Intialize spark in local notebook please run startjupyter.sh\n",
    "source /Users/gkumargaur/workspace/scala/GCP-AI-Tensor/scripts/startjupyter.sh\n",
    "2. run pyspark, this will open the notebook with spark enabled"
   ]
  },
  {
   "cell_type": "code",
   "execution_count": 1,
   "id": "fad56f5a",
   "metadata": {},
   "outputs": [
    {
     "name": "stderr",
     "output_type": "stream",
     "text": [
      "\n",
      "Bad key \"nbagg.transparent\" on line 426 in\n",
      "/Users/gkumargaur/anaconda3/envs/pytorch/lib/python3.6/site-packages/matplotlib/mpl-data/stylelib/_classic_test.mplstyle.\n",
      "You probably need to get an updated matplotlibrc file from\n",
      "https://github.com/matplotlib/matplotlib/blob/v3.2.2/matplotlibrc.template\n",
      "or from the matplotlib source distribution\n",
      "\n",
      "Bad key \"animation.mencoder_path\" on line 509 in\n",
      "/Users/gkumargaur/anaconda3/envs/pytorch/lib/python3.6/site-packages/matplotlib/mpl-data/stylelib/_classic_test.mplstyle.\n",
      "You probably need to get an updated matplotlibrc file from\n",
      "https://github.com/matplotlib/matplotlib/blob/v3.2.2/matplotlibrc.template\n",
      "or from the matplotlib source distribution\n",
      "\n",
      "Bad key \"animation.mencoder_args\" on line 512 in\n",
      "/Users/gkumargaur/anaconda3/envs/pytorch/lib/python3.6/site-packages/matplotlib/mpl-data/stylelib/_classic_test.mplstyle.\n",
      "You probably need to get an updated matplotlibrc file from\n",
      "https://github.com/matplotlib/matplotlib/blob/v3.2.2/matplotlibrc.template\n",
      "or from the matplotlib source distribution\n",
      "In /Users/gkumargaur/anaconda3/envs/pytorch/lib/python3.6/site-packages/matplotlib/mpl-data/stylelib/_classic_test.mplstyle: \n",
      "The text.latex.unicode rcparam was deprecated in Matplotlib 3.0 and will be removed in 3.2.\n",
      "In /Users/gkumargaur/anaconda3/envs/pytorch/lib/python3.6/site-packages/matplotlib/mpl-data/stylelib/_classic_test.mplstyle: \n",
      "The savefig.frameon rcparam was deprecated in Matplotlib 3.1 and will be removed in 3.3.\n",
      "In /Users/gkumargaur/anaconda3/envs/pytorch/lib/python3.6/site-packages/matplotlib/mpl-data/stylelib/_classic_test.mplstyle: \n",
      "The pgf.debug rcparam was deprecated in Matplotlib 3.0 and will be removed in 3.2.\n",
      "In /Users/gkumargaur/anaconda3/envs/pytorch/lib/python3.6/site-packages/matplotlib/mpl-data/stylelib/_classic_test.mplstyle: \n",
      "The verbose.level rcparam was deprecated in Matplotlib 3.1 and will be removed in 3.3.\n",
      "In /Users/gkumargaur/anaconda3/envs/pytorch/lib/python3.6/site-packages/matplotlib/mpl-data/stylelib/_classic_test.mplstyle: \n",
      "The verbose.fileo rcparam was deprecated in Matplotlib 3.1 and will be removed in 3.3.\n"
     ]
    }
   ],
   "source": [
    "import pandas as pd\n",
    "import warnings\n",
    "import datetime\n",
    "from pyspark.sql import SparkSession\n",
    "from pyspark.sql.functions import *\n",
    "from google.cloud import bigquery\n",
    "import matplotlib.pyplot as plt\n",
    "%matplotlib inline\n",
    "warnings.filterwarnings(\"ignore\")\n",
    "spark = SparkSession.builder \\\n",
    "  .config('spark.jars', 'gs://spark-lib/bigquery/spark-bigquery-latest_2.12.jar') \\\n",
    "  .getOrCreate()"
   ]
  },
  {
   "cell_type": "code",
   "execution_count": 2,
   "id": "828e2b94",
   "metadata": {},
   "outputs": [
    {
     "data": {
      "text/html": [
       "<div>\n",
       "<style scoped>\n",
       "    .dataframe tbody tr th:only-of-type {\n",
       "        vertical-align: middle;\n",
       "    }\n",
       "\n",
       "    .dataframe tbody tr th {\n",
       "        vertical-align: top;\n",
       "    }\n",
       "\n",
       "    .dataframe thead th {\n",
       "        text-align: right;\n",
       "    }\n",
       "</style>\n",
       "<table border=\"1\" class=\"dataframe\">\n",
       "  <thead>\n",
       "    <tr style=\"text-align: right;\">\n",
       "      <th></th>\n",
       "      <th>Name</th>\n",
       "      <th>Date</th>\n",
       "      <th>Open</th>\n",
       "      <th>Close</th>\n",
       "      <th>Low</th>\n",
       "      <th>High</th>\n",
       "      <th>AdjClose</th>\n",
       "      <th>Volume</th>\n",
       "      <th>record_ingestion_date</th>\n",
       "      <th>prev_close</th>\n",
       "      <th>change</th>\n",
       "      <th>change_in_percent</th>\n",
       "    </tr>\n",
       "  </thead>\n",
       "  <tbody>\n",
       "    <tr>\n",
       "      <th>0</th>\n",
       "      <td>UONE</td>\n",
       "      <td>2021-03-16</td>\n",
       "      <td>5.75</td>\n",
       "      <td>5.59</td>\n",
       "      <td>5.49</td>\n",
       "      <td>5.86</td>\n",
       "      <td>5.59</td>\n",
       "      <td>351000.0</td>\n",
       "      <td>2021-03-16</td>\n",
       "      <td>NaN</td>\n",
       "      <td>0.00</td>\n",
       "      <td>NaN</td>\n",
       "    </tr>\n",
       "    <tr>\n",
       "      <th>1</th>\n",
       "      <td>UONE</td>\n",
       "      <td>2021-03-17</td>\n",
       "      <td>5.53</td>\n",
       "      <td>5.95</td>\n",
       "      <td>5.33</td>\n",
       "      <td>5.96</td>\n",
       "      <td>5.95</td>\n",
       "      <td>367500.0</td>\n",
       "      <td>2021-03-16</td>\n",
       "      <td>5.59</td>\n",
       "      <td>0.36</td>\n",
       "      <td>6.44</td>\n",
       "    </tr>\n",
       "    <tr>\n",
       "      <th>2</th>\n",
       "      <td>UONE</td>\n",
       "      <td>2021-03-18</td>\n",
       "      <td>6.65</td>\n",
       "      <td>6.01</td>\n",
       "      <td>5.94</td>\n",
       "      <td>7.30</td>\n",
       "      <td>6.01</td>\n",
       "      <td>7392200.0</td>\n",
       "      <td>2021-03-16</td>\n",
       "      <td>5.95</td>\n",
       "      <td>0.06</td>\n",
       "      <td>1.01</td>\n",
       "    </tr>\n",
       "    <tr>\n",
       "      <th>3</th>\n",
       "      <td>UONE</td>\n",
       "      <td>2021-03-19</td>\n",
       "      <td>6.02</td>\n",
       "      <td>5.86</td>\n",
       "      <td>5.84</td>\n",
       "      <td>6.50</td>\n",
       "      <td>5.86</td>\n",
       "      <td>1413000.0</td>\n",
       "      <td>2021-03-16</td>\n",
       "      <td>6.01</td>\n",
       "      <td>-0.15</td>\n",
       "      <td>-2.50</td>\n",
       "    </tr>\n",
       "    <tr>\n",
       "      <th>4</th>\n",
       "      <td>UONE</td>\n",
       "      <td>2021-03-22</td>\n",
       "      <td>5.98</td>\n",
       "      <td>5.70</td>\n",
       "      <td>5.69</td>\n",
       "      <td>6.09</td>\n",
       "      <td>5.70</td>\n",
       "      <td>346000.0</td>\n",
       "      <td>2021-03-16</td>\n",
       "      <td>5.86</td>\n",
       "      <td>-0.16</td>\n",
       "      <td>-2.73</td>\n",
       "    </tr>\n",
       "    <tr>\n",
       "      <th>5</th>\n",
       "      <td>UONE</td>\n",
       "      <td>2021-03-23</td>\n",
       "      <td>5.61</td>\n",
       "      <td>5.45</td>\n",
       "      <td>5.41</td>\n",
       "      <td>5.85</td>\n",
       "      <td>5.45</td>\n",
       "      <td>392000.0</td>\n",
       "      <td>2021-03-16</td>\n",
       "      <td>5.70</td>\n",
       "      <td>-0.25</td>\n",
       "      <td>-4.39</td>\n",
       "    </tr>\n",
       "    <tr>\n",
       "      <th>6</th>\n",
       "      <td>UONE</td>\n",
       "      <td>2021-03-24</td>\n",
       "      <td>5.50</td>\n",
       "      <td>5.38</td>\n",
       "      <td>5.33</td>\n",
       "      <td>5.81</td>\n",
       "      <td>5.38</td>\n",
       "      <td>393300.0</td>\n",
       "      <td>2021-03-16</td>\n",
       "      <td>5.45</td>\n",
       "      <td>-0.07</td>\n",
       "      <td>-1.28</td>\n",
       "    </tr>\n",
       "    <tr>\n",
       "      <th>7</th>\n",
       "      <td>UONE</td>\n",
       "      <td>2021-03-25</td>\n",
       "      <td>5.25</td>\n",
       "      <td>5.42</td>\n",
       "      <td>5.17</td>\n",
       "      <td>5.52</td>\n",
       "      <td>5.42</td>\n",
       "      <td>236600.0</td>\n",
       "      <td>2021-03-16</td>\n",
       "      <td>5.38</td>\n",
       "      <td>0.04</td>\n",
       "      <td>0.74</td>\n",
       "    </tr>\n",
       "    <tr>\n",
       "      <th>8</th>\n",
       "      <td>UONE</td>\n",
       "      <td>2021-03-26</td>\n",
       "      <td>5.41</td>\n",
       "      <td>5.30</td>\n",
       "      <td>5.13</td>\n",
       "      <td>5.67</td>\n",
       "      <td>5.30</td>\n",
       "      <td>1075600.0</td>\n",
       "      <td>2021-03-16</td>\n",
       "      <td>5.42</td>\n",
       "      <td>-0.12</td>\n",
       "      <td>-2.21</td>\n",
       "    </tr>\n",
       "    <tr>\n",
       "      <th>9</th>\n",
       "      <td>UONE</td>\n",
       "      <td>2021-03-29</td>\n",
       "      <td>5.31</td>\n",
       "      <td>5.34</td>\n",
       "      <td>5.17</td>\n",
       "      <td>5.43</td>\n",
       "      <td>5.34</td>\n",
       "      <td>259100.0</td>\n",
       "      <td>2021-03-16</td>\n",
       "      <td>5.30</td>\n",
       "      <td>0.04</td>\n",
       "      <td>0.75</td>\n",
       "    </tr>\n",
       "  </tbody>\n",
       "</table>\n",
       "</div>"
      ],
      "text/plain": [
       "   Name        Date  Open  Close   Low  High  AdjClose     Volume  \\\n",
       "0  UONE  2021-03-16  5.75   5.59  5.49  5.86      5.59   351000.0   \n",
       "1  UONE  2021-03-17  5.53   5.95  5.33  5.96      5.95   367500.0   \n",
       "2  UONE  2021-03-18  6.65   6.01  5.94  7.30      6.01  7392200.0   \n",
       "3  UONE  2021-03-19  6.02   5.86  5.84  6.50      5.86  1413000.0   \n",
       "4  UONE  2021-03-22  5.98   5.70  5.69  6.09      5.70   346000.0   \n",
       "5  UONE  2021-03-23  5.61   5.45  5.41  5.85      5.45   392000.0   \n",
       "6  UONE  2021-03-24  5.50   5.38  5.33  5.81      5.38   393300.0   \n",
       "7  UONE  2021-03-25  5.25   5.42  5.17  5.52      5.42   236600.0   \n",
       "8  UONE  2021-03-26  5.41   5.30  5.13  5.67      5.30  1075600.0   \n",
       "9  UONE  2021-03-29  5.31   5.34  5.17  5.43      5.34   259100.0   \n",
       "\n",
       "  record_ingestion_date  prev_close  change  change_in_percent  \n",
       "0            2021-03-16         NaN    0.00                NaN  \n",
       "1            2021-03-16        5.59    0.36               6.44  \n",
       "2            2021-03-16        5.95    0.06               1.01  \n",
       "3            2021-03-16        6.01   -0.15              -2.50  \n",
       "4            2021-03-16        5.86   -0.16              -2.73  \n",
       "5            2021-03-16        5.70   -0.25              -4.39  \n",
       "6            2021-03-16        5.45   -0.07              -1.28  \n",
       "7            2021-03-16        5.38    0.04               0.74  \n",
       "8            2021-03-16        5.42   -0.12              -2.21  \n",
       "9            2021-03-16        5.30    0.04               0.75  "
      ]
     },
     "execution_count": 2,
     "metadata": {},
     "output_type": "execute_result"
    }
   ],
   "source": [
    "df = spark.read \\\n",
    "  .format('bigquery') \\\n",
    "  .load('itd-aia-datalake.janus_graph.symbols_by_close').filter(col(\"Name\") == 'UONE').orderBy(\"Date\")\n",
    "#df.show(10)\n",
    "pndf = df.toPandas()\n",
    "pndf.head(10)"
   ]
  },
  {
   "cell_type": "code",
   "execution_count": 3,
   "id": "6b029681",
   "metadata": {},
   "outputs": [
    {
     "data": {
      "text/html": [
       "<div>\n",
       "<style scoped>\n",
       "    .dataframe tbody tr th:only-of-type {\n",
       "        vertical-align: middle;\n",
       "    }\n",
       "\n",
       "    .dataframe tbody tr th {\n",
       "        vertical-align: top;\n",
       "    }\n",
       "\n",
       "    .dataframe thead th {\n",
       "        text-align: right;\n",
       "    }\n",
       "</style>\n",
       "<table border=\"1\" class=\"dataframe\">\n",
       "  <thead>\n",
       "    <tr style=\"text-align: right;\">\n",
       "      <th></th>\n",
       "      <th>Name</th>\n",
       "      <th>Open</th>\n",
       "      <th>Close</th>\n",
       "      <th>Low</th>\n",
       "      <th>High</th>\n",
       "      <th>AdjClose</th>\n",
       "      <th>Volume</th>\n",
       "      <th>record_ingestion_date</th>\n",
       "      <th>prev_close</th>\n",
       "      <th>change</th>\n",
       "      <th>change_in_percent</th>\n",
       "    </tr>\n",
       "    <tr>\n",
       "      <th>Date</th>\n",
       "      <th></th>\n",
       "      <th></th>\n",
       "      <th></th>\n",
       "      <th></th>\n",
       "      <th></th>\n",
       "      <th></th>\n",
       "      <th></th>\n",
       "      <th></th>\n",
       "      <th></th>\n",
       "      <th></th>\n",
       "      <th></th>\n",
       "    </tr>\n",
       "  </thead>\n",
       "  <tbody>\n",
       "    <tr>\n",
       "      <th>2021-03-16</th>\n",
       "      <td>UONE</td>\n",
       "      <td>5.75</td>\n",
       "      <td>5.59</td>\n",
       "      <td>5.49</td>\n",
       "      <td>5.86</td>\n",
       "      <td>5.59</td>\n",
       "      <td>351000.0</td>\n",
       "      <td>2021-03-16</td>\n",
       "      <td>NaN</td>\n",
       "      <td>0.00</td>\n",
       "      <td>NaN</td>\n",
       "    </tr>\n",
       "    <tr>\n",
       "      <th>2021-03-17</th>\n",
       "      <td>UONE</td>\n",
       "      <td>5.53</td>\n",
       "      <td>5.95</td>\n",
       "      <td>5.33</td>\n",
       "      <td>5.96</td>\n",
       "      <td>5.95</td>\n",
       "      <td>367500.0</td>\n",
       "      <td>2021-03-16</td>\n",
       "      <td>5.59</td>\n",
       "      <td>0.36</td>\n",
       "      <td>6.44</td>\n",
       "    </tr>\n",
       "    <tr>\n",
       "      <th>2021-03-18</th>\n",
       "      <td>UONE</td>\n",
       "      <td>6.65</td>\n",
       "      <td>6.01</td>\n",
       "      <td>5.94</td>\n",
       "      <td>7.30</td>\n",
       "      <td>6.01</td>\n",
       "      <td>7392200.0</td>\n",
       "      <td>2021-03-16</td>\n",
       "      <td>5.95</td>\n",
       "      <td>0.06</td>\n",
       "      <td>1.01</td>\n",
       "    </tr>\n",
       "    <tr>\n",
       "      <th>2021-03-19</th>\n",
       "      <td>UONE</td>\n",
       "      <td>6.02</td>\n",
       "      <td>5.86</td>\n",
       "      <td>5.84</td>\n",
       "      <td>6.50</td>\n",
       "      <td>5.86</td>\n",
       "      <td>1413000.0</td>\n",
       "      <td>2021-03-16</td>\n",
       "      <td>6.01</td>\n",
       "      <td>-0.15</td>\n",
       "      <td>-2.50</td>\n",
       "    </tr>\n",
       "    <tr>\n",
       "      <th>2021-03-22</th>\n",
       "      <td>UONE</td>\n",
       "      <td>5.98</td>\n",
       "      <td>5.70</td>\n",
       "      <td>5.69</td>\n",
       "      <td>6.09</td>\n",
       "      <td>5.70</td>\n",
       "      <td>346000.0</td>\n",
       "      <td>2021-03-16</td>\n",
       "      <td>5.86</td>\n",
       "      <td>-0.16</td>\n",
       "      <td>-2.73</td>\n",
       "    </tr>\n",
       "    <tr>\n",
       "      <th>2021-03-23</th>\n",
       "      <td>UONE</td>\n",
       "      <td>5.61</td>\n",
       "      <td>5.45</td>\n",
       "      <td>5.41</td>\n",
       "      <td>5.85</td>\n",
       "      <td>5.45</td>\n",
       "      <td>392000.0</td>\n",
       "      <td>2021-03-16</td>\n",
       "      <td>5.70</td>\n",
       "      <td>-0.25</td>\n",
       "      <td>-4.39</td>\n",
       "    </tr>\n",
       "    <tr>\n",
       "      <th>2021-03-24</th>\n",
       "      <td>UONE</td>\n",
       "      <td>5.50</td>\n",
       "      <td>5.38</td>\n",
       "      <td>5.33</td>\n",
       "      <td>5.81</td>\n",
       "      <td>5.38</td>\n",
       "      <td>393300.0</td>\n",
       "      <td>2021-03-16</td>\n",
       "      <td>5.45</td>\n",
       "      <td>-0.07</td>\n",
       "      <td>-1.28</td>\n",
       "    </tr>\n",
       "    <tr>\n",
       "      <th>2021-03-25</th>\n",
       "      <td>UONE</td>\n",
       "      <td>5.25</td>\n",
       "      <td>5.42</td>\n",
       "      <td>5.17</td>\n",
       "      <td>5.52</td>\n",
       "      <td>5.42</td>\n",
       "      <td>236600.0</td>\n",
       "      <td>2021-03-16</td>\n",
       "      <td>5.38</td>\n",
       "      <td>0.04</td>\n",
       "      <td>0.74</td>\n",
       "    </tr>\n",
       "    <tr>\n",
       "      <th>2021-03-26</th>\n",
       "      <td>UONE</td>\n",
       "      <td>5.41</td>\n",
       "      <td>5.30</td>\n",
       "      <td>5.13</td>\n",
       "      <td>5.67</td>\n",
       "      <td>5.30</td>\n",
       "      <td>1075600.0</td>\n",
       "      <td>2021-03-16</td>\n",
       "      <td>5.42</td>\n",
       "      <td>-0.12</td>\n",
       "      <td>-2.21</td>\n",
       "    </tr>\n",
       "    <tr>\n",
       "      <th>2021-03-29</th>\n",
       "      <td>UONE</td>\n",
       "      <td>5.31</td>\n",
       "      <td>5.34</td>\n",
       "      <td>5.17</td>\n",
       "      <td>5.43</td>\n",
       "      <td>5.34</td>\n",
       "      <td>259100.0</td>\n",
       "      <td>2021-03-16</td>\n",
       "      <td>5.30</td>\n",
       "      <td>0.04</td>\n",
       "      <td>0.75</td>\n",
       "    </tr>\n",
       "  </tbody>\n",
       "</table>\n",
       "</div>"
      ],
      "text/plain": [
       "            Name  Open  Close   Low  High  AdjClose     Volume  \\\n",
       "Date                                                             \n",
       "2021-03-16  UONE  5.75   5.59  5.49  5.86      5.59   351000.0   \n",
       "2021-03-17  UONE  5.53   5.95  5.33  5.96      5.95   367500.0   \n",
       "2021-03-18  UONE  6.65   6.01  5.94  7.30      6.01  7392200.0   \n",
       "2021-03-19  UONE  6.02   5.86  5.84  6.50      5.86  1413000.0   \n",
       "2021-03-22  UONE  5.98   5.70  5.69  6.09      5.70   346000.0   \n",
       "2021-03-23  UONE  5.61   5.45  5.41  5.85      5.45   392000.0   \n",
       "2021-03-24  UONE  5.50   5.38  5.33  5.81      5.38   393300.0   \n",
       "2021-03-25  UONE  5.25   5.42  5.17  5.52      5.42   236600.0   \n",
       "2021-03-26  UONE  5.41   5.30  5.13  5.67      5.30  1075600.0   \n",
       "2021-03-29  UONE  5.31   5.34  5.17  5.43      5.34   259100.0   \n",
       "\n",
       "           record_ingestion_date  prev_close  change  change_in_percent  \n",
       "Date                                                                     \n",
       "2021-03-16            2021-03-16         NaN    0.00                NaN  \n",
       "2021-03-17            2021-03-16        5.59    0.36               6.44  \n",
       "2021-03-18            2021-03-16        5.95    0.06               1.01  \n",
       "2021-03-19            2021-03-16        6.01   -0.15              -2.50  \n",
       "2021-03-22            2021-03-16        5.86   -0.16              -2.73  \n",
       "2021-03-23            2021-03-16        5.70   -0.25              -4.39  \n",
       "2021-03-24            2021-03-16        5.45   -0.07              -1.28  \n",
       "2021-03-25            2021-03-16        5.38    0.04               0.74  \n",
       "2021-03-26            2021-03-16        5.42   -0.12              -2.21  \n",
       "2021-03-29            2021-03-16        5.30    0.04               0.75  "
      ]
     },
     "execution_count": 3,
     "metadata": {},
     "output_type": "execute_result"
    }
   ],
   "source": [
    "pndf.set_index('Date',inplace=True)\n",
    "pndf.head(10)"
   ]
  },
  {
   "cell_type": "code",
   "execution_count": 4,
   "id": "4cf672a4",
   "metadata": {},
   "outputs": [
    {
     "name": "stdout",
     "output_type": "stream",
     "text": [
      "There are 63 number of days in the dataset.\n"
     ]
    }
   ],
   "source": [
    "print('There are {} number of days in the dataset.'.format(pndf.shape[0]))"
   ]
  },
  {
   "cell_type": "code",
   "execution_count": 5,
   "id": "de7fb211",
   "metadata": {},
   "outputs": [
    {
     "data": {
      "image/png": "[encoded data removed]",
      "text/plain": [
       "<Figure size 432x288 with 1 Axes>"
      ]
     },
     "metadata": {
      "needs_background": "light"
     },
     "output_type": "display_data"
    }
   ],
   "source": [
    "%matplotlib inline\n",
    "import matplotlib.pyplot as plt\n",
    "pndf.plot();"
   ]
  },
  {
   "cell_type": "code",
   "execution_count": 6,
   "id": "0557f16a",
   "metadata": {},
   "outputs": [],
   "source": [
    "prices = pndf['Close']\n",
    "volumes = pndf['Volume']"
   ]
  },
  {
   "cell_type": "code",
   "execution_count": 7,
   "id": "f26e508b",
   "metadata": {},
   "outputs": [
    {
     "data": {
      "text/plain": [
       "Date\n",
       "2021-06-08     7697200.0\n",
       "2021-06-09     2658100.0\n",
       "2021-06-10     1548800.0\n",
       "2021-06-11    37137000.0\n",
       "2021-06-14     9538900.0\n",
       "Name: Volume, dtype: float64"
      ]
     },
     "execution_count": 7,
     "metadata": {},
     "output_type": "execute_result"
    }
   ],
   "source": [
    "volumes.tail()"
   ]
  },
  {
   "cell_type": "code",
   "execution_count": 8,
   "id": "f6451e52",
   "metadata": {},
   "outputs": [
    {
     "data": {
      "text/plain": [
       "Date\n",
       "2021-03-16    5.59\n",
       "2021-03-17    5.95\n",
       "2021-03-18    6.01\n",
       "2021-03-19    5.86\n",
       "2021-03-22    5.70\n",
       "Name: Close, dtype: float64"
      ]
     },
     "execution_count": 8,
     "metadata": {},
     "output_type": "execute_result"
    }
   ],
   "source": [
    "prices.head()"
   ]
  },
  {
   "cell_type": "code",
   "execution_count": 9,
   "id": "5b6fed43",
   "metadata": {},
   "outputs": [
    {
     "data": {
      "image/png": "[encoded data removed]",
      "text/plain": [
       "<Figure size 864x576 with 2 Axes>"
      ]
     },
     "metadata": {
      "needs_background": "light"
     },
     "output_type": "display_data"
    }
   ],
   "source": [
    "# The top plot consisting of dailing closing prices\n",
    "top = plt.subplot2grid((4, 4), (0, 0), rowspan=3, colspan=4)\n",
    "top.plot(prices.index, prices, label='Close')\n",
    "plt.title('ABN Last Price from 2015 - 2018')\n",
    "plt.legend(loc=2)\n",
    "\n",
    "# The bottom plot consisting of daily trading volume\n",
    "bottom = plt.subplot2grid((4, 4), (3,0), rowspan=1, colspan=4)\n",
    "bottom.bar(volumes.index, volumes)\n",
    "plt.title('ABN Daily Trading Volume')\n",
    "\n",
    "plt.gcf().set_size_inches(12, 8)\n",
    "plt.subplots_adjust(hspace=0.75)"
   ]
  },
  {
   "cell_type": "code",
   "execution_count": 10,
   "id": "7e0fb22e",
   "metadata": {},
   "outputs": [
    {
     "data": {
      "text/plain": [
       "([<matplotlib.lines.Line2D at 0x120443b00>,\n",
       "  <matplotlib.lines.Line2D at 0x120451128>,\n",
       "  <matplotlib.lines.Line2D at 0x1204517f0>,\n",
       "  <matplotlib.lines.Line2D at 0x120451eb8>,\n",
       "  <matplotlib.lines.Line2D at 0x12045e5c0>,\n",
       "  <matplotlib.lines.Line2D at 0x12045ec88>,\n",
       "  <matplotlib.lines.Line2D at 0x120468390>,\n",
       "  <matplotlib.lines.Line2D at 0x120468a58>,\n",
       "  <matplotlib.lines.Line2D at 0x120474160>,\n",
       "  <matplotlib.lines.Line2D at 0x120474828>,\n",
       "  <matplotlib.lines.Line2D at 0x120474ef0>,\n",
       "  <matplotlib.lines.Line2D at 0x12047f5f8>,\n",
       "  <matplotlib.lines.Line2D at 0x12047fcc0>,\n",
       "  <matplotlib.lines.Line2D at 0x12048c3c8>,\n",
       "  <matplotlib.lines.Line2D at 0x12048ca90>,\n",
       "  <matplotlib.lines.Line2D at 0x120496198>,\n",
       "  <matplotlib.lines.Line2D at 0x120496860>,\n",
       "  <matplotlib.lines.Line2D at 0x120496f28>,\n",
       "  <matplotlib.lines.Line2D at 0x1204a3630>,\n",
       "  <matplotlib.lines.Line2D at 0x1204a3cf8>,\n",
       "  <matplotlib.lines.Line2D at 0x1204ae400>,\n",
       "  <matplotlib.lines.Line2D at 0x1204aeac8>,\n",
       "  <matplotlib.lines.Line2D at 0x1204bb1d0>,\n",
       "  <matplotlib.lines.Line2D at 0x1204bb898>,\n",
       "  <matplotlib.lines.Line2D at 0x1204bbf60>,\n",
       "  <matplotlib.lines.Line2D at 0x1204c7668>,\n",
       "  <matplotlib.lines.Line2D at 0x1204c7d30>,\n",
       "  <matplotlib.lines.Line2D at 0x1204d1438>,\n",
       "  <matplotlib.lines.Line2D at 0x1204d1b00>,\n",
       "  <matplotlib.lines.Line2D at 0x1204de208>,\n",
       "  <matplotlib.lines.Line2D at 0x1204de8d0>,\n",
       "  <matplotlib.lines.Line2D at 0x1204def98>,\n",
       "  <matplotlib.lines.Line2D at 0x1204eb6a0>,\n",
       "  <matplotlib.lines.Line2D at 0x1204ebd68>,\n",
       "  <matplotlib.lines.Line2D at 0x1204f7470>,\n",
       "  <matplotlib.lines.Line2D at 0x1204f7b38>,\n",
       "  <matplotlib.lines.Line2D at 0x120502240>,\n",
       "  <matplotlib.lines.Line2D at 0x120502908>,\n",
       "  <matplotlib.lines.Line2D at 0x120502fd0>,\n",
       "  <matplotlib.lines.Line2D at 0x12050e6d8>,\n",
       "  <matplotlib.lines.Line2D at 0x12050eda0>,\n",
       "  <matplotlib.lines.Line2D at 0x12051b4a8>,\n",
       "  <matplotlib.lines.Line2D at 0x12051bb70>,\n",
       "  <matplotlib.lines.Line2D at 0x120526278>,\n",
       "  <matplotlib.lines.Line2D at 0x120526940>,\n",
       "  <matplotlib.lines.Line2D at 0x120531048>,\n",
       "  <matplotlib.lines.Line2D at 0x120531710>,\n",
       "  <matplotlib.lines.Line2D at 0x120531dd8>,\n",
       "  <matplotlib.lines.Line2D at 0x12053e4e0>,\n",
       "  <matplotlib.lines.Line2D at 0x12053eba8>,\n",
       "  <matplotlib.lines.Line2D at 0x1205492b0>,\n",
       "  <matplotlib.lines.Line2D at 0x120549978>,\n",
       "  <matplotlib.lines.Line2D at 0x120555080>,\n",
       "  <matplotlib.lines.Line2D at 0x120555748>,\n",
       "  <matplotlib.lines.Line2D at 0x120555e10>,\n",
       "  <matplotlib.lines.Line2D at 0x120561518>,\n",
       "  <matplotlib.lines.Line2D at 0x120561be0>,\n",
       "  <matplotlib.lines.Line2D at 0x12056c2e8>,\n",
       "  <matplotlib.lines.Line2D at 0x12056c9b0>,\n",
       "  <matplotlib.lines.Line2D at 0x1205780b8>,\n",
       "  <matplotlib.lines.Line2D at 0x120578780>,\n",
       "  <matplotlib.lines.Line2D at 0x120578e48>,\n",
       "  <matplotlib.lines.Line2D at 0x120585550>],\n",
       " [<matplotlib.patches.Rectangle at 0x120443c18>,\n",
       "  <matplotlib.patches.Rectangle at 0x120451320>,\n",
       "  <matplotlib.patches.Rectangle at 0x1204519e8>,\n",
       "  <matplotlib.patches.Rectangle at 0x12045e0f0>,\n",
       "  <matplotlib.patches.Rectangle at 0x12045e7b8>,\n",
       "  <matplotlib.patches.Rectangle at 0x12045ee80>,\n",
       "  <matplotlib.patches.Rectangle at 0x120468588>,\n",
       "  <matplotlib.patches.Rectangle at 0x120468c50>,\n",
       "  <matplotlib.patches.Rectangle at 0x120474358>,\n",
       "  <matplotlib.patches.Rectangle at 0x120474a20>,\n",
       "  <matplotlib.patches.Rectangle at 0x12047f128>,\n",
       "  <matplotlib.patches.Rectangle at 0x12047f7f0>,\n",
       "  <matplotlib.patches.Rectangle at 0x12047feb8>,\n",
       "  <matplotlib.patches.Rectangle at 0x12048c5c0>,\n",
       "  <matplotlib.patches.Rectangle at 0x12048cc88>,\n",
       "  <matplotlib.patches.Rectangle at 0x120496390>,\n",
       "  <matplotlib.patches.Rectangle at 0x120496a58>,\n",
       "  <matplotlib.patches.Rectangle at 0x1204a3160>,\n",
       "  <matplotlib.patches.Rectangle at 0x1204a3828>,\n",
       "  <matplotlib.patches.Rectangle at 0x1204a3ef0>,\n",
       "  <matplotlib.patches.Rectangle at 0x1204ae5f8>,\n",
       "  <matplotlib.patches.Rectangle at 0x1204aecc0>,\n",
       "  <matplotlib.patches.Rectangle at 0x1204bb3c8>,\n",
       "  <matplotlib.patches.Rectangle at 0x1204bba90>,\n",
       "  <matplotlib.patches.Rectangle at 0x1204c7198>,\n",
       "  <matplotlib.patches.Rectangle at 0x1204c7860>,\n",
       "  <matplotlib.patches.Rectangle at 0x1204c7f28>,\n",
       "  <matplotlib.patches.Rectangle at 0x1204d1630>,\n",
       "  <matplotlib.patches.Rectangle at 0x1204d1cf8>,\n",
       "  <matplotlib.patches.Rectangle at 0x1204de400>,\n",
       "  <matplotlib.patches.Rectangle at 0x1204deac8>,\n",
       "  <matplotlib.patches.Rectangle at 0x1204eb1d0>,\n",
       "  <matplotlib.patches.Rectangle at 0x1204eb898>,\n",
       "  <matplotlib.patches.Rectangle at 0x1204ebf60>,\n",
       "  <matplotlib.patches.Rectangle at 0x1204f7668>,\n",
       "  <matplotlib.patches.Rectangle at 0x1204f7d30>,\n",
       "  <matplotlib.patches.Rectangle at 0x120502438>,\n",
       "  <matplotlib.patches.Rectangle at 0x120502b00>,\n",
       "  <matplotlib.patches.Rectangle at 0x12050e208>,\n",
       "  <matplotlib.patches.Rectangle at 0x12050e8d0>,\n",
       "  <matplotlib.patches.Rectangle at 0x12050ef98>,\n",
       "  <matplotlib.patches.Rectangle at 0x12051b6a0>,\n",
       "  <matplotlib.patches.Rectangle at 0x12051bd68>,\n",
       "  <matplotlib.patches.Rectangle at 0x120526470>,\n",
       "  <matplotlib.patches.Rectangle at 0x120526b38>,\n",
       "  <matplotlib.patches.Rectangle at 0x120531240>,\n",
       "  <matplotlib.patches.Rectangle at 0x120531908>,\n",
       "  <matplotlib.patches.Rectangle at 0x120531fd0>,\n",
       "  <matplotlib.patches.Rectangle at 0x12053e6d8>,\n",
       "  <matplotlib.patches.Rectangle at 0x12053eda0>,\n",
       "  <matplotlib.patches.Rectangle at 0x1205494a8>,\n",
       "  <matplotlib.patches.Rectangle at 0x120549b70>,\n",
       "  <matplotlib.patches.Rectangle at 0x120555278>,\n",
       "  <matplotlib.patches.Rectangle at 0x120555940>,\n",
       "  <matplotlib.patches.Rectangle at 0x120561048>,\n",
       "  <matplotlib.patches.Rectangle at 0x120561710>,\n",
       "  <matplotlib.patches.Rectangle at 0x120561dd8>,\n",
       "  <matplotlib.patches.Rectangle at 0x12056c4e0>,\n",
       "  <matplotlib.patches.Rectangle at 0x12056cba8>,\n",
       "  <matplotlib.patches.Rectangle at 0x1205782b0>,\n",
       "  <matplotlib.patches.Rectangle at 0x120578978>,\n",
       "  <matplotlib.patches.Rectangle at 0x120585080>,\n",
       "  <matplotlib.patches.Rectangle at 0x120585748>])"
      ]
     },
     "execution_count": 10,
     "metadata": {},
     "output_type": "execute_result"
    },
    {
     "data": {
      "image/png": "[encoded data removed]",
      "text/plain": [
       "<Figure size 576x288 with 1 Axes>"
      ]
     },
     "metadata": {
      "needs_background": "light"
     },
     "output_type": "display_data"
    }
   ],
   "source": [
    "%matplotlib inline\n",
    "import mplfinance as mpf \n",
    "from mplfinance.original_flavor import candlestick_ohlc\n",
    "import matplotlib.dates as mdates\n",
    "import matplotlib.pyplot as plt\n",
    "\n",
    "\n",
    "df_subset = pndf\n",
    "df_subset.index = pd.to_datetime(df_subset.index)\n",
    "df_subset['Date'] = df_subset.index.map(mdates.date2num)\n",
    "df_ohlc = df_subset[['Date','Open', 'High', 'Low', 'Close']]\n",
    "\n",
    "figure, ax = plt.subplots(figsize = (8,4))\n",
    "formatter = mdates.DateFormatter('%Y-%m-%d')\n",
    "ax.xaxis.set_major_formatter(formatter)\n",
    "candlestick_ohlc(ax, \n",
    "                 df_ohlc.values, \n",
    "                 width=0.8, \n",
    "                 colorup='green', \n",
    "                 colordown='red')\n"
   ]
  },
  {
   "cell_type": "code",
   "execution_count": 11,
   "id": "5fa5c500",
   "metadata": {},
   "outputs": [],
   "source": [
    "#mpf.plot(df_subset, type='candle', style='charles',title='S&P 500',ylabel='Price ($)',ylabel_lower='Shares \\nTraded',volume=True, mav=(3,6,9))"
   ]
  },
  {
   "cell_type": "code",
   "execution_count": 12,
   "id": "002572b4",
   "metadata": {},
   "outputs": [
    {
     "name": "stdout",
     "output_type": "stream",
     "text": [
      "Date     float64\n",
      "Open     float64\n",
      "High     float64\n",
      "Low      float64\n",
      "Close    float64\n",
      "dtype: object\n"
     ]
    }
   ],
   "source": [
    "print (df_ohlc.dtypes)"
   ]
  },
  {
   "cell_type": "code",
   "execution_count": 13,
   "id": "1101a54b",
   "metadata": {},
   "outputs": [
    {
     "data": {
      "text/html": [
       "<div>\n",
       "<style scoped>\n",
       "    .dataframe tbody tr th:only-of-type {\n",
       "        vertical-align: middle;\n",
       "    }\n",
       "\n",
       "    .dataframe tbody tr th {\n",
       "        vertical-align: top;\n",
       "    }\n",
       "\n",
       "    .dataframe thead th {\n",
       "        text-align: right;\n",
       "    }\n",
       "</style>\n",
       "<table border=\"1\" class=\"dataframe\">\n",
       "  <thead>\n",
       "    <tr style=\"text-align: right;\">\n",
       "      <th></th>\n",
       "      <th>Close</th>\n",
       "    </tr>\n",
       "    <tr>\n",
       "      <th>Date</th>\n",
       "      <th></th>\n",
       "    </tr>\n",
       "  </thead>\n",
       "  <tbody>\n",
       "    <tr>\n",
       "      <th>2021-03-16</th>\n",
       "      <td>5.59</td>\n",
       "    </tr>\n",
       "    <tr>\n",
       "      <th>2021-03-17</th>\n",
       "      <td>5.95</td>\n",
       "    </tr>\n",
       "    <tr>\n",
       "      <th>2021-03-18</th>\n",
       "      <td>6.01</td>\n",
       "    </tr>\n",
       "    <tr>\n",
       "      <th>2021-03-19</th>\n",
       "      <td>5.86</td>\n",
       "    </tr>\n",
       "    <tr>\n",
       "      <th>2021-03-22</th>\n",
       "      <td>5.70</td>\n",
       "    </tr>\n",
       "    <tr>\n",
       "      <th>2021-03-23</th>\n",
       "      <td>5.45</td>\n",
       "    </tr>\n",
       "    <tr>\n",
       "      <th>2021-03-24</th>\n",
       "      <td>5.38</td>\n",
       "    </tr>\n",
       "    <tr>\n",
       "      <th>2021-03-25</th>\n",
       "      <td>5.42</td>\n",
       "    </tr>\n",
       "    <tr>\n",
       "      <th>2021-03-26</th>\n",
       "      <td>5.30</td>\n",
       "    </tr>\n",
       "    <tr>\n",
       "      <th>2021-03-29</th>\n",
       "      <td>5.34</td>\n",
       "    </tr>\n",
       "  </tbody>\n",
       "</table>\n",
       "</div>"
      ],
      "text/plain": [
       "            Close\n",
       "Date             \n",
       "2021-03-16   5.59\n",
       "2021-03-17   5.95\n",
       "2021-03-18   6.01\n",
       "2021-03-19   5.86\n",
       "2021-03-22   5.70\n",
       "2021-03-23   5.45\n",
       "2021-03-24   5.38\n",
       "2021-03-25   5.42\n",
       "2021-03-26   5.30\n",
       "2021-03-29   5.34"
      ]
     },
     "execution_count": 13,
     "metadata": {},
     "output_type": "execute_result"
    }
   ],
   "source": [
    "dcdf = df_ohlc[['Close']]\n",
    "dcdf.head(10)"
   ]
  },
  {
   "cell_type": "code",
   "execution_count": 14,
   "id": "24d7d262",
   "metadata": {},
   "outputs": [
    {
     "data": {
      "image/png": "[encoded data removed]",
      "text/plain": [
       "<Figure size 432x288 with 1 Axes>"
      ]
     },
     "metadata": {
      "needs_background": "light"
     },
     "output_type": "display_data"
    }
   ],
   "source": [
    "daily_changes = dcdf.pct_change(periods=1)\n",
    "daily_changes.plot();"
   ]
  },
  {
   "cell_type": "code",
   "execution_count": 15,
   "id": "52a596b4",
   "metadata": {},
   "outputs": [
    {
     "data": {
      "image/png": "[encoded data removed]",
      "text/plain": [
       "<Figure size 432x288 with 1 Axes>"
      ]
     },
     "metadata": {
      "needs_background": "light"
     },
     "output_type": "display_data"
    }
   ],
   "source": [
    "df_cumsum = daily_changes.cumsum()\n",
    "df_cumsum.plot();"
   ]
  },
  {
   "cell_type": "code",
   "execution_count": 16,
   "id": "15414700",
   "metadata": {},
   "outputs": [
    {
     "data": {
      "image/png": "[encoded data removed]",
      "text/plain": [
       "<Figure size 576x288 with 1 Axes>"
      ]
     },
     "metadata": {
      "needs_background": "light"
     },
     "output_type": "display_data"
    }
   ],
   "source": [
    "daily_changes.hist(bins=50, figsize=(8, 4));"
   ]
  },
  {
   "cell_type": "code",
   "execution_count": 17,
   "id": "6dd87fe4",
   "metadata": {},
   "outputs": [
    {
     "data": {
      "text/html": [
       "<div>\n",
       "<style scoped>\n",
       "    .dataframe tbody tr th:only-of-type {\n",
       "        vertical-align: middle;\n",
       "    }\n",
       "\n",
       "    .dataframe tbody tr th {\n",
       "        vertical-align: top;\n",
       "    }\n",
       "\n",
       "    .dataframe thead th {\n",
       "        text-align: right;\n",
       "    }\n",
       "</style>\n",
       "<table border=\"1\" class=\"dataframe\">\n",
       "  <thead>\n",
       "    <tr style=\"text-align: right;\">\n",
       "      <th></th>\n",
       "      <th>Close</th>\n",
       "    </tr>\n",
       "  </thead>\n",
       "  <tbody>\n",
       "    <tr>\n",
       "      <th>count</th>\n",
       "      <td>62.000000</td>\n",
       "    </tr>\n",
       "    <tr>\n",
       "      <th>mean</th>\n",
       "      <td>0.026863</td>\n",
       "    </tr>\n",
       "    <tr>\n",
       "      <th>std</th>\n",
       "      <td>0.114888</td>\n",
       "    </tr>\n",
       "    <tr>\n",
       "      <th>min</th>\n",
       "      <td>-0.128661</td>\n",
       "    </tr>\n",
       "    <tr>\n",
       "      <th>25%</th>\n",
       "      <td>-0.026978</td>\n",
       "    </tr>\n",
       "    <tr>\n",
       "      <th>50%</th>\n",
       "      <td>0.002737</td>\n",
       "    </tr>\n",
       "    <tr>\n",
       "      <th>75%</th>\n",
       "      <td>0.027418</td>\n",
       "    </tr>\n",
       "    <tr>\n",
       "      <th>max</th>\n",
       "      <td>0.590682</td>\n",
       "    </tr>\n",
       "  </tbody>\n",
       "</table>\n",
       "</div>"
      ],
      "text/plain": [
       "           Close\n",
       "count  62.000000\n",
       "mean    0.026863\n",
       "std     0.114888\n",
       "min    -0.128661\n",
       "25%    -0.026978\n",
       "50%     0.002737\n",
       "75%     0.027418\n",
       "max     0.590682"
      ]
     },
     "execution_count": 17,
     "metadata": {},
     "output_type": "execute_result"
    }
   ],
   "source": [
    "daily_changes.describe()"
   ]
  },
  {
   "cell_type": "code",
   "execution_count": 18,
   "id": "8af07a32",
   "metadata": {},
   "outputs": [
    {
     "data": {
      "image/png": "[encoded data removed]",
      "text/plain": [
       "<Figure size 432x288 with 1 Axes>"
      ]
     },
     "metadata": {
      "needs_background": "light"
     },
     "output_type": "display_data"
    }
   ],
   "source": [
    "df_filled = dcdf.asfreq('D', method='ffill')\n",
    "df_returns = df_filled.pct_change()\n",
    "df_std = df_returns.rolling(window=30, min_periods=30).std()\n",
    "df_std.plot();"
   ]
  },
  {
   "cell_type": "code",
   "execution_count": null,
   "id": "66aa29d9",
   "metadata": {},
   "outputs": [],
   "source": []
  },
  {
   "cell_type": "code",
   "execution_count": 19,
   "id": "af74f607",
   "metadata": {},
   "outputs": [
    {
     "data": {
      "image/png": "[encoded data removed]",
      "text/plain": [
       "<Figure size 864x576 with 1 Axes>"
      ]
     },
     "metadata": {
      "needs_background": "light"
     },
     "output_type": "display_data"
    }
   ],
   "source": [
    "df_filled = pndf.asfreq('D', method='ffill')\n",
    "df_last = pndf['Close']\n",
    "\n",
    "series_short = df_last.rolling(window=5, min_periods=5).mean()\n",
    "series_long = df_last.rolling(window=30, min_periods=30).mean()\n",
    "\n",
    "df_sma = pd.DataFrame(columns=['Low', 'High'])\n",
    "df_sma['short'] = series_short\n",
    "df_sma['long'] = series_long\n",
    "df_sma.plot(figsize=(12, 8));"
   ]
  },
  {
   "cell_type": "code",
   "execution_count": null,
   "id": "fa45b920",
   "metadata": {},
   "outputs": [],
   "source": []
  }
 ],
 "metadata": {
  "kernelspec": {
   "display_name": "Python 3",
   "language": "python",
   "name": "python3"
  },
  "language_info": {
   "codemirror_mode": {
    "name": "ipython",
    "version": 3
   },
   "file_extension": ".py",
   "mimetype": "text/x-python",
   "name": "python",
   "nbconvert_exporter": "python",
   "pygments_lexer": "ipython3",
   "version": "3.6.13"
  }
 },
 "nbformat": 4,
 "nbformat_minor": 5
}
