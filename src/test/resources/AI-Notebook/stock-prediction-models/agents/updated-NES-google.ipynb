{
 "cells": [
  {
   "cell_type": "code",
   "execution_count": 1,
   "metadata": {
    "inputHidden": false,
    "outputHidden": false
   },
   "outputs": [],
   "source": [
    "import numpy as np\n",
    "import matplotlib.pyplot as plt\n",
    "import seaborn as sns\n",
    "sns.set()"
   ]
  },
  {
   "cell_type": "code",
   "execution_count": 2,
   "metadata": {
    "inputHidden": false,
    "outputHidden": false
   },
   "outputs": [
    {
     "data": {
      "image/png": "[encoded data removed]",
      "text/plain": [
       "<Figure size 720x360 with 1 Axes>"
      ]
     },
     "metadata": {},
     "output_type": "display_data"
    }
   ],
   "source": [
    "plt.figure(figsize = (10, 5))\n",
    "bins = np.linspace(-10, 10, 100)\n",
    "\n",
    "solution = np.random.randn(100)\n",
    "w = np.random.randn(100)\n",
    "\n",
    "plt.hist(solution, bins, alpha = 0.5, label = 'solution', color = 'r')\n",
    "plt.hist(w, bins, alpha = 0.5, label = 'random', color = 'y')\n",
    "plt.legend()\n",
    "plt.show()"
   ]
  },
  {
   "cell_type": "code",
   "execution_count": 3,
   "metadata": {
    "inputHidden": false,
    "outputHidden": false
   },
   "outputs": [
    {
     "name": "stdout",
     "output_type": "stream",
     "text": [
      "iter 1000. w: 1.321090930321518, solution: 1.7730161833582896, reward: -29.078311\n",
      "iter 2000. w: 1.7788461508547209, solution: 1.7730161833582896, reward: -0.008184\n",
      "iter 3000. w: 1.7707011018842147, solution: 1.7730161833582896, reward: -0.008519\n",
      "iter 4000. w: 1.7766848554413004, solution: 1.7730161833582896, reward: -0.008419\n",
      "iter 5000. w: 1.7797736001109254, solution: 1.7730161833582896, reward: -0.008002\n"
     ]
    }
   ],
   "source": [
    "def f(w):\n",
    "    return -np.sum(np.square(solution - w))\n",
    "\n",
    "\n",
    "npop = 50\n",
    "sigma = 0.1\n",
    "alpha = 0.001\n",
    "\n",
    "for i in range(5000):\n",
    "\n",
    "    if (i + 1) % 1000 == 0:\n",
    "        print(\n",
    "            'iter %d. w: %s, solution: %s, reward: %f'\n",
    "            % (i + 1, str(w[-1]), str(solution[-1]), f(w))\n",
    "        )\n",
    "    N = np.random.randn(npop, 100)\n",
    "    R = np.zeros(npop)\n",
    "    for j in range(npop):\n",
    "        w_try = w + sigma * N[j]\n",
    "        R[j] = f(w_try)\n",
    "\n",
    "    A = (R - np.mean(R)) / np.std(R)\n",
    "    w = w + alpha / (npop * sigma) * np.dot(N.T, A)"
   ]
  },
  {
   "cell_type": "code",
   "execution_count": 4,
   "metadata": {
    "inputHidden": false,
    "outputHidden": false
   },
   "outputs": [
    {
     "data": {
      "image/png": "[encoded data removed]",
      "text/plain": [
       "<Figure size 720x360 with 1 Axes>"
      ]
     },
     "metadata": {},
     "output_type": "display_data"
    }
   ],
   "source": [
    "'''\n",
    "I want to compare my first two individuals with my real w\n",
    "'''\n",
    "plt.figure(figsize=(10,5))\n",
    "\n",
    "sigma = 0.1\n",
    "N = np.random.randn(npop, 100)\n",
    "individuals = []\n",
    "for j in range(2):\n",
    "    individuals.append(w + sigma * N[j])\n",
    "\n",
    "\n",
    "plt.hist(w, bins, alpha=0.5, label='w',color='r')\n",
    "plt.hist(individuals[0], bins, alpha=0.5, label='individual 1')\n",
    "plt.hist(individuals[1], bins, alpha=0.5, label='individual 2')\n",
    "plt.legend()\n",
    "plt.show()"
   ]
  },
  {
   "cell_type": "code",
   "execution_count": 5,
   "metadata": {
    "inputHidden": false,
    "outputHidden": false
   },
   "outputs": [
    {
     "data": {
      "text/html": [
       "<div>\n",
       "<style scoped>\n",
       "    .dataframe tbody tr th:only-of-type {\n",
       "        vertical-align: middle;\n",
       "    }\n",
       "\n",
       "    .dataframe tbody tr th {\n",
       "        vertical-align: top;\n",
       "    }\n",
       "\n",
       "    .dataframe thead th {\n",
       "        text-align: right;\n",
       "    }\n",
       "</style>\n",
       "<table border=\"1\" class=\"dataframe\">\n",
       "  <thead>\n",
       "    <tr style=\"text-align: right;\">\n",
       "      <th></th>\n",
       "      <th>Date</th>\n",
       "      <th>Open</th>\n",
       "      <th>High</th>\n",
       "      <th>Low</th>\n",
       "      <th>Close</th>\n",
       "      <th>Adj Close</th>\n",
       "      <th>Volume</th>\n",
       "    </tr>\n",
       "  </thead>\n",
       "  <tbody>\n",
       "    <tr>\n",
       "      <th>0</th>\n",
       "      <td>2020-11-02</td>\n",
       "      <td>778.200012</td>\n",
       "      <td>781.650024</td>\n",
       "      <td>763.450012</td>\n",
       "      <td>768.700012</td>\n",
       "      <td>768.700012</td>\n",
       "      <td>1872400</td>\n",
       "    </tr>\n",
       "    <tr>\n",
       "      <th>1</th>\n",
       "      <td>2020-11-03</td>\n",
       "      <td>767.250000</td>\n",
       "      <td>769.950012</td>\n",
       "      <td>759.030029</td>\n",
       "      <td>762.130005</td>\n",
       "      <td>762.130005</td>\n",
       "      <td>1943200</td>\n",
       "    </tr>\n",
       "    <tr>\n",
       "      <th>2</th>\n",
       "      <td>2020-11-04</td>\n",
       "      <td>750.659973</td>\n",
       "      <td>770.359985</td>\n",
       "      <td>750.560974</td>\n",
       "      <td>762.020020</td>\n",
       "      <td>762.020020</td>\n",
       "      <td>2134800</td>\n",
       "    </tr>\n",
       "    <tr>\n",
       "      <th>3</th>\n",
       "      <td>2020-11-07</td>\n",
       "      <td>774.500000</td>\n",
       "      <td>785.190002</td>\n",
       "      <td>772.549988</td>\n",
       "      <td>782.520020</td>\n",
       "      <td>782.520020</td>\n",
       "      <td>1585100</td>\n",
       "    </tr>\n",
       "    <tr>\n",
       "      <th>4</th>\n",
       "      <td>2020-11-08</td>\n",
       "      <td>783.400024</td>\n",
       "      <td>795.632996</td>\n",
       "      <td>780.190002</td>\n",
       "      <td>790.510010</td>\n",
       "      <td>790.510010</td>\n",
       "      <td>1350800</td>\n",
       "    </tr>\n",
       "  </tbody>\n",
       "</table>\n",
       "</div>"
      ],
      "text/plain": [
       "         Date        Open        High         Low       Close   Adj Close  \\\n",
       "0  2020-11-02  778.200012  781.650024  763.450012  768.700012  768.700012   \n",
       "1  2020-11-03  767.250000  769.950012  759.030029  762.130005  762.130005   \n",
       "2  2020-11-04  750.659973  770.359985  750.560974  762.020020  762.020020   \n",
       "3  2020-11-07  774.500000  785.190002  772.549988  782.520020  782.520020   \n",
       "4  2020-11-08  783.400024  795.632996  780.190002  790.510010  790.510010   \n",
       "\n",
       "    Volume  \n",
       "0  1872400  \n",
       "1  1943200  \n",
       "2  2134800  \n",
       "3  1585100  \n",
       "4  1350800  "
      ]
     },
     "execution_count": 5,
     "metadata": {},
     "output_type": "execute_result"
    }
   ],
   "source": [
    "import pandas as pd\n",
    "#google = pd.read_csv('/Users/huseinzolkepli/Desktop/GOOG.csv')\n",
    "#google.head()\n",
    "google = pd.read_csv('/Users/gkumargaur/workspace/python/gitprojects/Stock-Prediction-Models/dataset/GOOG-year.csv')\n",
    "google.head()"
   ]
  },
  {
   "cell_type": "code",
   "execution_count": 6,
   "metadata": {
    "inputHidden": false,
    "outputHidden": false
   },
   "outputs": [],
   "source": [
    "def get_state(data, t, n):\n",
    "    d = t - n + 1\n",
    "    block = data[d : t + 1] if d >= 0 else -d * [data[0]] + data[: t + 1]\n",
    "    res = []\n",
    "    for i in range(n - 1):\n",
    "        res.append(block[i + 1] - block[i])\n",
    "    return np.array([res])"
   ]
  },
  {
   "cell_type": "code",
   "execution_count": 7,
   "metadata": {
    "inputHidden": false,
    "outputHidden": false
   },
   "outputs": [
    {
     "data": {
      "text/plain": [
       "array([[0., 0., 0., 0., 0., 0., 0., 0., 0.]])"
      ]
     },
     "execution_count": 7,
     "metadata": {},
     "output_type": "execute_result"
    }
   ],
   "source": [
    "close = google.Close.values.tolist()\n",
    "get_state(close, 0, 10)"
   ]
  },
  {
   "cell_type": "code",
   "execution_count": 8,
   "metadata": {
    "inputHidden": false,
    "outputHidden": false
   },
   "outputs": [
    {
     "data": {
      "text/plain": [
       "array([[ 0.      ,  0.      ,  0.      ,  0.      ,  0.      ,  0.      ,\n",
       "         0.      ,  0.      , -6.570007]])"
      ]
     },
     "execution_count": 8,
     "metadata": {},
     "output_type": "execute_result"
    }
   ],
   "source": [
    "get_state(close, 1, 10)"
   ]
  },
  {
   "cell_type": "code",
   "execution_count": 9,
   "metadata": {
    "inputHidden": false,
    "outputHidden": false
   },
   "outputs": [
    {
     "data": {
      "text/plain": [
       "array([[ 0.      ,  0.      ,  0.      ,  0.      ,  0.      ,  0.      ,\n",
       "         0.      , -6.570007, -0.109985]])"
      ]
     },
     "execution_count": 9,
     "metadata": {},
     "output_type": "execute_result"
    }
   ],
   "source": [
    "get_state(close, 2, 10)"
   ]
  },
  {
   "cell_type": "code",
   "execution_count": 10,
   "metadata": {
    "inputHidden": false,
    "outputHidden": false
   },
   "outputs": [],
   "source": [
    "class Deep_Evolution_Strategy:\n",
    "    def __init__(\n",
    "        self, weights, reward_function, population_size, sigma, learning_rate\n",
    "    ):\n",
    "        self.weights = weights\n",
    "        self.reward_function = reward_function\n",
    "        self.population_size = population_size\n",
    "        self.sigma = sigma\n",
    "        self.learning_rate = learning_rate\n",
    "\n",
    "    def _get_weight_from_population(self, weights, population):\n",
    "        weights_population = []\n",
    "        for index, i in enumerate(population):\n",
    "            jittered = self.sigma * i\n",
    "            weights_population.append(weights[index] + jittered)\n",
    "        return weights_population\n",
    "\n",
    "    def get_weights(self):\n",
    "        return self.weights\n",
    "\n",
    "    def train(self, epoch = 100, print_every = 1):\n",
    "        lasttime = time.time()\n",
    "        for i in range(epoch):\n",
    "            population = []\n",
    "            rewards = np.zeros(self.population_size)\n",
    "            for k in range(self.population_size):\n",
    "                x = []\n",
    "                for w in self.weights:\n",
    "                    x.append(np.random.randn(*w.shape))\n",
    "                population.append(x)\n",
    "            for k in range(self.population_size):\n",
    "                weights_population = self._get_weight_from_population(\n",
    "                    self.weights, population[k]\n",
    "                )\n",
    "                rewards[k] = self.reward_function(weights_population)\n",
    "            rewards = (rewards - np.mean(rewards)) / np.std(rewards)\n",
    "            for index, w in enumerate(self.weights):\n",
    "                A = np.array([p[index] for p in population])\n",
    "                self.weights[index] = (\n",
    "                    w\n",
    "                    + self.learning_rate\n",
    "                    / (self.population_size * self.sigma)\n",
    "                    * np.dot(A.T, rewards).T\n",
    "                )\n",
    "            if (i + 1) % print_every == 0:\n",
    "                print(\n",
    "                    'iter %d. reward: %f'\n",
    "                    % (i + 1, self.reward_function(self.weights))\n",
    "                )\n",
    "        print('time taken to train:', time.time() - lasttime, 'seconds')"
   ]
  },
  {
   "cell_type": "code",
   "execution_count": 11,
   "metadata": {
    "inputHidden": false,
    "outputHidden": false
   },
   "outputs": [],
   "source": [
    "class Model:\n",
    "    def __init__(self, input_size, layer_size, output_size):\n",
    "        self.weights = [\n",
    "            np.random.randn(input_size, layer_size),\n",
    "            np.random.randn(layer_size, output_size),\n",
    "            np.random.randn(layer_size, 1),\n",
    "            np.random.randn(1, layer_size),\n",
    "        ]\n",
    "\n",
    "    def predict(self, inputs):\n",
    "        feed = np.dot(inputs, self.weights[0]) + self.weights[-1]\n",
    "        decision = np.dot(feed, self.weights[1])\n",
    "        buy = np.dot(feed, self.weights[2])\n",
    "        return decision, buy\n",
    "\n",
    "    def get_weights(self):\n",
    "        return self.weights\n",
    "\n",
    "    def set_weights(self, weights):\n",
    "        self.weights = weights"
   ]
  },
  {
   "cell_type": "code",
   "execution_count": 12,
   "metadata": {
    "inputHidden": false,
    "outputHidden": false
   },
   "outputs": [],
   "source": [
    "window_size = 30\n",
    "model = Model(window_size, 500, 3)"
   ]
  },
  {
   "cell_type": "code",
   "execution_count": 13,
   "metadata": {
    "inputHidden": false,
    "outputHidden": false
   },
   "outputs": [
    {
     "data": {
      "text/plain": [
       "-7.374802439999948"
      ]
     },
     "execution_count": 13,
     "metadata": {},
     "output_type": "execute_result"
    }
   ],
   "source": [
    "initial_money = 10000\n",
    "starting_money = initial_money\n",
    "len_close = len(close) - 1\n",
    "weight = model\n",
    "skip = 1\n",
    "\n",
    "state = get_state(close, 0, window_size + 1)\n",
    "inventory = []\n",
    "quantity = 0\n",
    "\n",
    "max_buy = 5\n",
    "max_sell = 5\n",
    "\n",
    "\n",
    "def act(model, sequence):\n",
    "    decision, buy = model.predict(np.array(sequence))\n",
    "    return np.argmax(decision[0]), int(buy[0])\n",
    "\n",
    "\n",
    "for t in range(0, len_close, skip):\n",
    "    action, buy = act(weight, state)\n",
    "    next_state = get_state(close, t + 1, window_size + 1)\n",
    "    if action == 1 and initial_money >= close[t]:\n",
    "        if buy < 0:\n",
    "            buy = 1\n",
    "        if buy > max_buy:\n",
    "            buy_units = max_buy\n",
    "        else:\n",
    "            buy_units = buy\n",
    "        total_buy = buy_units * close[t]\n",
    "        initial_money -= total_buy\n",
    "        inventory.append(total_buy)\n",
    "        quantity += buy_units\n",
    "    elif action == 2 and len(inventory) > 0:\n",
    "        if quantity > max_sell:\n",
    "            sell_units = max_sell\n",
    "        else:\n",
    "            sell_units = quantity\n",
    "        quantity -= sell_units\n",
    "        total_sell = sell_units * close[t]\n",
    "        initial_money += total_sell\n",
    "\n",
    "    state = next_state\n",
    "((initial_money - starting_money) / starting_money) * 100"
   ]
  },
  {
   "cell_type": "code",
   "execution_count": 14,
   "metadata": {
    "inputHidden": false,
    "outputHidden": false
   },
   "outputs": [],
   "source": [
    "import time\n",
    "\n",
    "\n",
    "class Agent:\n",
    "\n",
    "    POPULATION_SIZE = 15\n",
    "    SIGMA = 0.1\n",
    "    LEARNING_RATE = 0.03\n",
    "\n",
    "    def __init__(\n",
    "        self, model, money, max_buy, max_sell, close, window_size, skip\n",
    "    ):\n",
    "        self.window_size = window_size\n",
    "        self.skip = skip\n",
    "        self.close = close\n",
    "        self.model = model\n",
    "        self.initial_money = money\n",
    "        self.max_buy = max_buy\n",
    "        self.max_sell = max_sell\n",
    "        self.es = Deep_Evolution_Strategy(\n",
    "            self.model.get_weights(),\n",
    "            self.get_reward,\n",
    "            self.POPULATION_SIZE,\n",
    "            self.SIGMA,\n",
    "            self.LEARNING_RATE,\n",
    "        )\n",
    "\n",
    "    def act(self, sequence):\n",
    "        decision, buy = self.model.predict(np.array(sequence))\n",
    "        return np.argmax(decision[0]), int(buy[0])\n",
    "\n",
    "    def get_reward(self, weights):\n",
    "        initial_money = self.initial_money\n",
    "        starting_money = initial_money\n",
    "        len_close = len(self.close) - 1\n",
    "\n",
    "        self.model.weights = weights\n",
    "        state = get_state(self.close, 0, self.window_size + 1)\n",
    "        inventory = []\n",
    "        quantity = 0\n",
    "        for t in range(0, len_close, self.skip):\n",
    "            action, buy = self.act(state)\n",
    "            next_state = get_state(self.close, t + 1, self.window_size + 1)\n",
    "            if action == 1 and initial_money >= self.close[t]:\n",
    "                if buy < 0:\n",
    "                    buy = 1\n",
    "                if buy > self.max_buy:\n",
    "                    buy_units = self.max_buy\n",
    "                else:\n",
    "                    buy_units = buy\n",
    "                total_buy = buy_units * self.close[t]\n",
    "                initial_money -= total_buy\n",
    "                inventory.append(total_buy)\n",
    "                quantity += buy_units\n",
    "            elif action == 2 and len(inventory) > 0:\n",
    "                if quantity > self.max_sell:\n",
    "                    sell_units = self.max_sell\n",
    "                else:\n",
    "                    sell_units = quantity\n",
    "                quantity -= sell_units\n",
    "                total_sell = sell_units * self.close[t]\n",
    "                initial_money += total_sell\n",
    "\n",
    "            state = next_state\n",
    "        return ((initial_money - starting_money) / starting_money) * 100\n",
    "\n",
    "    def fit(self, iterations, checkpoint):\n",
    "        self.es.train(iterations, print_every = checkpoint)\n",
    "\n",
    "    def buy(self):\n",
    "        initial_money = self.initial_money\n",
    "        len_close = len(self.close) - 1\n",
    "        state = get_state(self.close, 0, self.window_size + 1)\n",
    "        starting_money = initial_money\n",
    "        states_sell = []\n",
    "        states_buy = []\n",
    "        inventory = []\n",
    "        quantity = 0\n",
    "        for t in range(0, len_close, self.skip):\n",
    "            action, buy = self.act(state)\n",
    "            next_state = get_state(self.close, t + 1, self.window_size + 1)\n",
    "            if action == 1 and initial_money >= self.close[t]:\n",
    "                if buy < 0:\n",
    "                    buy = 1\n",
    "                if buy > self.max_buy:\n",
    "                    buy_units = self.max_buy\n",
    "                else:\n",
    "                    buy_units = buy\n",
    "                total_buy = buy_units * self.close[t]\n",
    "                initial_money -= total_buy\n",
    "                inventory.append(total_buy)\n",
    "                quantity += buy_units\n",
    "                states_buy.append(t)\n",
    "                print(\n",
    "                    'day %d: buy %d units at price %f, total balance %f'\n",
    "                    % (t, buy_units, total_buy, initial_money)\n",
    "                )\n",
    "            elif action == 2 and len(inventory) > 0:\n",
    "                bought_price = inventory.pop(0)\n",
    "                if quantity > self.max_sell:\n",
    "                    sell_units = self.max_sell\n",
    "                else:\n",
    "                    sell_units = quantity\n",
    "                if sell_units < 1:\n",
    "                    continue\n",
    "                quantity -= sell_units\n",
    "                total_sell = sell_units * self.close[t]\n",
    "                initial_money += total_sell\n",
    "                states_sell.append(t)\n",
    "                try:\n",
    "                    invest = ((total_sell - bought_price) / bought_price) * 100\n",
    "                except:\n",
    "                    invest = 0\n",
    "                print(\n",
    "                    'day %d, sell %d units at price %f, investment %f %%, total balance %f,'\n",
    "                    % (t, sell_units, total_sell, invest, initial_money)\n",
    "                )\n",
    "            state = next_state\n",
    "\n",
    "        invest = ((initial_money - starting_money) / starting_money) * 100\n",
    "        print(\n",
    "            '\\ntotal gained %f, total investment %f %%'\n",
    "            % (initial_money - starting_money, invest)\n",
    "        )\n",
    "        plt.figure(figsize = (20, 10))\n",
    "        plt.plot(close, label = 'true close', c = 'g')\n",
    "        plt.plot(\n",
    "            close, 'X', label = 'predict buy', markevery = states_buy, c = 'b'\n",
    "        )\n",
    "        plt.plot(\n",
    "            close, 'o', label = 'predict sell', markevery = states_sell, c = 'r'\n",
    "        )\n",
    "        plt.legend()\n",
    "        plt.show()"
   ]
  },
  {
   "cell_type": "code",
   "execution_count": 15,
   "metadata": {
    "inputHidden": false,
    "outputHidden": false
   },
   "outputs": [],
   "source": [
    "model = Model(input_size = window_size, layer_size = 500, output_size = 3)\n",
    "agent = Agent(\n",
    "    model = model,\n",
    "    money = 10000,\n",
    "    max_buy = 5,\n",
    "    max_sell = 5,\n",
    "    close = close,\n",
    "    window_size = window_size,\n",
    "    skip = 1,\n",
    ")"
   ]
  },
  {
   "cell_type": "code",
   "execution_count": 16,
   "metadata": {
    "inputHidden": false,
    "outputHidden": false
   },
   "outputs": [
    {
     "name": "stdout",
     "output_type": "stream",
     "text": [
      "iter 10. reward: 13.000755\n",
      "iter 20. reward: 25.134599\n",
      "iter 30. reward: 30.156444\n",
      "iter 40. reward: 33.395091\n",
      "iter 50. reward: 39.631934\n",
      "iter 60. reward: 38.123891\n",
      "iter 70. reward: 41.698491\n",
      "iter 80. reward: 41.016192\n",
      "iter 90. reward: 42.062186\n",
      "iter 100. reward: 48.742794\n",
      "iter 110. reward: 51.705342\n",
      "iter 120. reward: 49.964148\n",
      "iter 130. reward: 57.366152\n",
      "iter 140. reward: 58.748248\n",
      "iter 150. reward: 61.010656\n",
      "iter 160. reward: 58.972756\n",
      "iter 170. reward: 65.156759\n",
      "iter 180. reward: 61.930106\n",
      "iter 190. reward: 63.399351\n",
      "iter 200. reward: 59.214254\n",
      "iter 210. reward: 62.913049\n",
      "iter 220. reward: 62.470352\n",
      "iter 230. reward: 61.267954\n",
      "iter 240. reward: 61.491804\n",
      "iter 250. reward: 63.626952\n",
      "iter 260. reward: 64.914853\n",
      "iter 270. reward: 60.114493\n",
      "iter 280. reward: 65.603651\n",
      "iter 290. reward: 64.633452\n",
      "iter 300. reward: 57.479152\n",
      "iter 310. reward: 65.938051\n",
      "iter 320. reward: 66.231254\n",
      "iter 330. reward: 64.644155\n",
      "iter 340. reward: 67.673953\n",
      "iter 350. reward: 66.384654\n",
      "iter 360. reward: 66.303851\n",
      "iter 370. reward: 65.469549\n",
      "iter 380. reward: 67.556852\n",
      "iter 390. reward: 67.138251\n",
      "iter 400. reward: 67.206944\n",
      "iter 410. reward: 68.131147\n",
      "iter 420. reward: 67.916391\n",
      "iter 430. reward: 67.082194\n",
      "iter 440. reward: 64.786343\n",
      "iter 450. reward: 66.463845\n",
      "iter 460. reward: 66.824344\n",
      "iter 470. reward: 67.139798\n",
      "iter 480. reward: 67.738647\n",
      "iter 490. reward: 67.790097\n",
      "iter 500. reward: 68.032745\n",
      "time taken to train: 57.543133020401 seconds\n"
     ]
    }
   ],
   "source": [
    "agent.fit(iterations = 500, checkpoint = 10)"
   ]
  },
  {
   "cell_type": "code",
   "execution_count": 17,
   "metadata": {
    "inputHidden": false,
    "outputHidden": false
   },
   "outputs": [
    {
     "name": "stdout",
     "output_type": "stream",
     "text": [
      "day 2: buy 1 units at price 762.020020, total balance 9237.979980\n",
      "day 6, sell 1 units at price 762.559998, investment 0.070861 %, total balance 10000.539978,\n",
      "day 8: buy 5 units at price 3680.400085, total balance 6320.139893\n",
      "day 10: buy 5 units at price 3822.399900, total balance 2497.739993\n",
      "day 11: buy 1 units at price 771.229980, total balance 1726.510013\n",
      "day 12: buy 5 units at price 3802.699890, total balance -2076.189877\n",
      "day 17, sell 5 units at price 3841.199950, investment 4.369087 %, total balance 1765.010073,\n",
      "day 18: buy 1 units at price 770.840027, total balance 994.170046\n",
      "day 20: buy 5 units at price 3739.599915, total balance -2745.429869\n",
      "day 28, sell 5 units at price 3980.499880, investment 4.136144 %, total balance 1235.070011,\n",
      "day 29, sell 5 units at price 3985.350035, investment 416.752478 %, total balance 5220.420046,\n",
      "day 31: buy 5 units at price 3953.999940, total balance 1266.420106\n",
      "day 32, sell 5 units at price 3971.000060, investment 4.425807 %, total balance 5237.420166,\n",
      "day 33, sell 5 units at price 3982.099915, investment 416.592260 %, total balance 9219.520081,\n",
      "day 35, sell 2 units at price 1582.520020, investment -57.682104 %, total balance 10802.040101,\n",
      "day 38: buy 5 units at price 3925.249940, total balance 6876.790161\n",
      "day 39: buy 5 units at price 3913.949890, total balance 2962.840271\n",
      "day 41, sell 5 units at price 3930.700075, investment 0.138848 %, total balance 6893.540346,\n",
      "day 42: buy 5 units at price 3934.500120, total balance 2959.040226\n",
      "day 45, sell 5 units at price 4033.250120, investment 3.048078 %, total balance 6992.290346,\n",
      "day 47, sell 5 units at price 4039.549865, investment 2.669964 %, total balance 11031.840211,\n",
      "day 50: buy 5 units at price 4023.049925, total balance 7008.790286\n",
      "day 52: buy 5 units at price 4010.874940, total balance 2997.915346\n",
      "day 53: buy 5 units at price 4025.100100, total balance -1027.184754\n",
      "day 55, sell 5 units at price 4119.349975, investment 2.393708 %, total balance 3092.165221,\n",
      "day 57, sell 5 units at price 4160.750120, investment 3.736720 %, total balance 7252.915341,\n",
      "day 58, sell 5 units at price 4116.549990, investment 2.271990 %, total balance 11369.465331,\n",
      "day 62: buy 5 units at price 3992.650145, total balance 7376.815186\n",
      "day 63: buy 1 units at price 801.489990, total balance 6575.325196\n",
      "day 64: buy 5 units at price 4006.700135, total balance 2568.625061\n",
      "day 65: buy 5 units at price 4034.849855, total balance -1466.224794\n",
      "day 69, sell 5 units at price 4096.199950, investment 2.593511 %, total balance 2629.975156,\n",
      "day 70: buy 5 units at price 4102.250060, total balance -1472.274904\n",
      "day 75, sell 5 units at price 4153.800050, investment 418.259754 %, total balance 2681.525146,\n",
      "day 76: buy 5 units at price 4156.650085, total balance -1475.124939\n",
      "day 80, sell 5 units at price 4176.199950, investment 4.230409 %, total balance 2701.075011,\n",
      "day 81, sell 5 units at price 4153.150025, investment 2.931960 %, total balance 6854.225036,\n",
      "day 82, sell 5 units at price 4145.400085, investment 1.051862 %, total balance 10999.625121,\n",
      "day 83: buy 5 units at price 4138.900145, total balance 6860.724976\n",
      "day 84, sell 5 units at price 4159.549865, investment 0.069762 %, total balance 11020.274841,\n",
      "day 88, sell 1 units at price 845.539978, investment -79.570902 %, total balance 11865.814819,\n",
      "day 89: buy 1 units at price 845.619995, total balance 11020.194824\n",
      "day 91, sell 1 units at price 848.780029, investment 0.373694 %, total balance 11868.974853,\n",
      "day 95: buy 1 units at price 829.590027, total balance 11039.384826\n",
      "day 96, sell 1 units at price 817.580017, investment -1.447704 %, total balance 11856.964843,\n",
      "day 97: buy 5 units at price 4072.149965, total balance 7784.814878\n",
      "day 98: buy 5 units at price 4097.550050, total balance 3687.264828\n",
      "day 99: buy 5 units at price 4104.599915, total balance -417.335087\n",
      "day 104, sell 5 units at price 4172.850035, investment 2.472897 %, total balance 3755.514948,\n",
      "day 106: buy 1 units at price 827.880005, total balance 2927.634943\n",
      "day 107: buy 1 units at price 824.669983, total balance 2102.964960\n",
      "day 108: buy 1 units at price 824.729980, total balance 1278.234980\n",
      "day 109: buy 5 units at price 4116.749880, total balance -2838.514900\n",
      "day 124, sell 5 units at price 4635.199890, investment 13.121251 %, total balance 1796.684990,\n",
      "day 125, sell 5 units at price 4658.299865, investment 13.489742 %, total balance 6454.984855,\n",
      "day 127, sell 5 units at price 4671.499940, investment 464.272589 %, total balance 11126.484795,\n",
      "day 128, sell 3 units at price 2796.509949, investment 239.106553 %, total balance 13922.994744,\n",
      "day 132: buy 5 units at price 4685.400085, total balance 9237.594659\n",
      "day 133, sell 5 units at price 4715.000000, investment 0.631748 %, total balance 13952.594659,\n",
      "day 138: buy 5 units at price 4744.100035, total balance 9208.494624\n",
      "day 139, sell 5 units at price 4774.800110, investment 0.647121 %, total balance 13983.294734,\n",
      "day 144: buy 1 units at price 966.950012, total balance 13016.344722\n",
      "day 145, sell 1 units at price 975.599976, investment 0.894562 %, total balance 13991.944698,\n",
      "day 146: buy 5 units at price 4918.399965, total balance 9073.544733\n",
      "day 147: buy 5 units at price 4882.850035, total balance 4190.694698\n",
      "day 148, sell 5 units at price 4904.700010, investment -0.278545 %, total balance 9095.394708,\n",
      "day 149, sell 5 units at price 4917.049865, investment 0.700407 %, total balance 14012.444573,\n",
      "day 150: buy 5 units at price 4749.150085, total balance 9263.294488\n",
      "day 151: buy 5 units at price 4714.500120, total balance 4548.794368\n",
      "day 152, sell 5 units at price 4767.000120, investment 0.375857 %, total balance 9315.794488,\n",
      "day 153: buy 5 units at price 4753.800050, total balance 4561.994438\n",
      "day 154: buy 5 units at price 4711.549990, total balance -149.555552\n",
      "day 157, sell 5 units at price 4753.150025, investment 0.819809 %, total balance 4603.594473,\n",
      "day 159, sell 5 units at price 4785.450135, investment 0.665785 %, total balance 9389.044608,\n",
      "day 160, sell 5 units at price 4827.950135, investment 2.470528 %, total balance 14216.994743,\n",
      "day 161: buy 1 units at price 952.270020, total balance 13264.724723\n",
      "day 162: buy 5 units at price 4636.650085, total balance 8628.074638\n",
      "day 163, sell 5 units at price 4702.449950, investment 393.814764 %, total balance 13330.524588,\n",
      "day 164, sell 1 units at price 917.789978, investment -80.205753 %, total balance 14248.314566,\n",
      "day 165: buy 5 units at price 4543.649900, total balance 9704.664666\n",
      "day 166: buy 5 units at price 4493.500060, total balance 5211.164606\n",
      "day 167: buy 5 units at price 4558.550110, total balance 652.614496\n",
      "day 177, sell 5 units at price 4854.450075, investment 6.840320 %, total balance 5507.064571,\n",
      "day 178: buy 1 units at price 968.150024, total balance 4538.914547\n",
      "day 180, sell 5 units at price 4901.700135, investment 9.084234 %, total balance 9440.614682,\n",
      "day 181, sell 5 units at price 4753.500060, investment 4.276578 %, total balance 14194.114742,\n",
      "day 182, sell 1 units at price 947.799988, investment -2.101951 %, total balance 15141.914730,\n",
      "day 183: buy 5 units at price 4670.450135, total balance 10471.464595\n",
      "day 184, sell 5 units at price 4707.650145, investment 0.796497 %, total balance 15179.114740,\n",
      "day 185: buy 5 units at price 4652.500000, total balance 10526.614740\n",
      "day 187: buy 5 units at price 4651.950075, total balance 5874.664665\n",
      "day 188, sell 5 units at price 4618.250120, investment -0.736161 %, total balance 10492.914785,\n",
      "day 191, sell 5 units at price 4633.949890, investment -0.386938 %, total balance 15126.864675,\n",
      "day 193: buy 1 units at price 907.239990, total balance 14219.624685\n",
      "day 195: buy 1 units at price 922.669983, total balance 13296.954702\n",
      "day 197: buy 5 units at price 4634.800110, total balance 8662.154592\n",
      "day 198, sell 5 units at price 4554.899900, investment 402.061191 %, total balance 13217.054492,\n",
      "day 199: buy 1 units at price 910.669983, total balance 12306.384509\n",
      "day 200: buy 5 units at price 4533.299865, total balance 7773.084644\n",
      "day 203: buy 1 units at price 921.280029, total balance 6851.804615\n",
      "day 204: buy 5 units at price 4579.450075, total balance 2272.354540\n",
      "day 205: buy 5 units at price 4569.049990, total balance -2296.695450\n",
      "day 208, sell 5 units at price 4696.650085, investment 409.028165 %, total balance 2399.954635,\n",
      "day 210: buy 1 units at price 928.450012, total balance 1471.504623\n",
      "day 215: buy 5 units at price 4660.350035, total balance -3188.845412\n",
      "day 220, sell 5 units at price 4609.049990, investment -0.555582 %, total balance 1420.204578,\n",
      "day 221: buy 5 units at price 4657.900085, total balance -3237.695507\n",
      "day 222, sell 5 units at price 4662.250060, investment 411.958245 %, total balance 1424.554553,\n",
      "day 223: buy 5 units at price 4642.650145, total balance -3218.095592\n",
      "day 227, sell 5 units at price 4747.500000, investment 4.725038 %, total balance 1529.404408,\n",
      "day 229: buy 5 units at price 4766.350100, total balance -3236.945692\n",
      "day 233, sell 5 units at price 4894.450075, investment 431.266273 %, total balance 1657.504383,\n",
      "day 234, sell 5 units at price 4885.000000, investment 6.672197 %, total balance 6542.504383,\n",
      "day 235: buy 5 units at price 4862.999880, total balance 1679.504503\n",
      "day 236, sell 5 units at price 4946.250000, investment 8.255546 %, total balance 6625.754503,\n",
      "day 239, sell 5 units at price 4960.000000, investment 434.223699 %, total balance 11585.754503,\n",
      "day 240, sell 5 units at price 4960.899965, investment 6.449085 %, total balance 16546.654468,\n",
      "day 241: buy 5 units at price 4964.049990, total balance 11582.604478\n",
      "day 242, sell 5 units at price 4922.250060, investment 5.675304 %, total balance 16504.854538,\n",
      "\n",
      "total gained 6504.854538, total investment 65.048545 %\n"
     ]
    },
    {
     "data": {
      "image/png": "[encoded data removed]",
      "text/plain": [
       "<Figure size 1440x720 with 1 Axes>"
      ]
     },
     "metadata": {},
     "output_type": "display_data"
    }
   ],
   "source": [
    "agent.buy()"
   ]
  },
  {
   "cell_type": "code",
   "execution_count": null,
   "metadata": {
    "inputHidden": false,
    "outputHidden": false
   },
   "outputs": [],
   "source": []
  }
 ],
 "metadata": {
  "kernel_info": {
   "name": "python3"
  },
  "kernelspec": {
   "display_name": "Python 3",
   "language": "python",
   "name": "python3"
  },
  "language_info": {
   "codemirror_mode": {
    "name": "ipython",
    "version": 3
   },
   "file_extension": ".py",
   "mimetype": "text/x-python",
   "name": "python",
   "nbconvert_exporter": "python",
   "pygments_lexer": "ipython3",
   "version": "3.8.10"
  },
  "nteract": {
   "version": "0.11.9"
  }
 },
 "nbformat": 4,
 "nbformat_minor": 4
}
