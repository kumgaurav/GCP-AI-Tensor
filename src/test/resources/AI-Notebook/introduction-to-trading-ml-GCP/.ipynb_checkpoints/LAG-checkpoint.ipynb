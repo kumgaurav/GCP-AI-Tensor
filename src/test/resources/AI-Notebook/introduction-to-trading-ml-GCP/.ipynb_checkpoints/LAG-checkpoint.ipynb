{
 "cells": [
  {
   "cell_type": "markdown",
   "id": "78785d79",
   "metadata": {},
   "source": [
    "Introduction to Trading, Machine Learning & GCP"
   ]
  },
  {
   "cell_type": "raw",
   "id": "ef835a8a",
   "metadata": {},
   "source": [
    "LAG function Examples\n",
    "\n",
    "The following example illustrates a basic use of the LAG function.\n",
    "\n",
    "WITH finishers AS\n",
    " (SELECT 'Sophia Liu' as name,\n",
    "  TIMESTAMP '2016-10-18 2:51:45' as finish_time,\n",
    "  'F30-34' as division\n",
    "  UNION ALL SELECT 'Lisa Stelzner', TIMESTAMP '2016-10-18 2:54:11', 'F35-39'\n",
    "  UNION ALL SELECT 'Nikki Leith', TIMESTAMP '2016-10-18 2:59:01', 'F30-34'\n",
    "  UNION ALL SELECT 'Lauren Matthews', TIMESTAMP '2016-10-18 3:01:17', 'F35-39'\n",
    "  UNION ALL SELECT 'Desiree Berry', TIMESTAMP '2016-10-18 3:05:42', 'F35-39'\n",
    "  UNION ALL SELECT 'Suzy Slane', TIMESTAMP '2016-10-18 3:06:24', 'F35-39'\n",
    "  UNION ALL SELECT 'Jen Edwards', TIMESTAMP '2016-10-18 3:06:36', 'F30-34'\n",
    "  UNION ALL SELECT 'Meghan Lederer', TIMESTAMP '2016-10-18 3:07:41', 'F30-34'\n",
    "  UNION ALL SELECT 'Carly Forte', TIMESTAMP '2016-10-18 3:08:58', 'F25-29'\n",
    "  UNION ALL SELECT 'Lauren Reasoner', TIMESTAMP '2016-10-18 3:10:14', 'F30-34')\n",
    "SELECT name,\n",
    "  finish_time,\n",
    "  division,\n",
    "  LAG(name)\n",
    "    OVER (PARTITION BY division ORDER BY finish_time ASC) AS preceding_runner\n",
    "FROM finishers;\n",
    "\n",
    "+-----------------+-------------+----------+------------------+\n",
    "| name            | finish_time | division | preceding_runner |\n",
    "+-----------------+-------------+----------+------------------+\n",
    "| Carly Forte     | 03:08:58    | F25-29   | NULL             |\n",
    "| Sophia Liu      | 02:51:45    | F30-34   | NULL             |\n",
    "| Nikki Leith     | 02:59:01    | F30-34   | Sophia Liu       |\n",
    "| Jen Edwards     | 03:06:36    | F30-34   | Nikki Leith      |\n",
    "| Meghan Lederer  | 03:07:41    | F30-34   | Jen Edwards      |\n",
    "| Lauren Reasoner | 03:10:14    | F30-34   | Meghan Lederer   |\n",
    "| Lisa Stelzner   | 02:54:11    | F35-39   | NULL             |\n",
    "| Lauren Matthews | 03:01:17    | F35-39   | Lisa Stelzner    |\n",
    "| Desiree Berry   | 03:05:42    | F35-39   | Lauren Matthews  |\n",
    "| Suzy Slane      | 03:06:24    | F35-39   | Desiree Berry    |\n",
    "+-----------------+-------------+----------+------------------+"
   ]
  },
  {
   "cell_type": "markdown",
   "id": "fe7eec8b",
   "metadata": {},
   "source": [
    "https://cloud.google.com/bigquery-ml/docs/reference/standard-sql/bigqueryml-syntax-create"
   ]
  },
  {
   "cell_type": "code",
   "execution_count": null,
   "id": "02513996",
   "metadata": {},
   "outputs": [],
   "source": []
  }
 ],
 "metadata": {
  "kernelspec": {
   "display_name": "Python 3",
   "language": "python",
   "name": "python3"
  },
  "language_info": {
   "codemirror_mode": {
    "name": "ipython",
    "version": 3
   },
   "file_extension": ".py",
   "mimetype": "text/x-python",
   "name": "python",
   "nbconvert_exporter": "python",
   "pygments_lexer": "ipython3",
   "version": "3.8.10"
  }
 },
 "nbformat": 4,
 "nbformat_minor": 5
}
